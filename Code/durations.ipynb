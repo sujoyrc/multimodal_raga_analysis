{
 "cells": [
  {
   "cell_type": "code",
   "execution_count": 1,
   "id": "b042e696-b0f4-4978-86d9-d9c4e1fe8577",
   "metadata": {},
   "outputs": [],
   "source": [
    "import librosa\n",
    "import os\n",
    "import pandas as pd\n",
    "from matplotlib import pyplot as plt\n",
    "plt.style.use('ggplot')"
   ]
  },
  {
   "cell_type": "code",
   "execution_count": 2,
   "id": "4caa9ae8-2ae4-43a4-93d9-5d1ffddf7ac3",
   "metadata": {},
   "outputs": [],
   "source": [
    "df_dict = {'filename': [], 'duration (s)': []}"
   ]
  },
  {
   "cell_type": "code",
   "execution_count": 3,
   "id": "8e389397-d2be-470c-be4e-7bce8bf36a28",
   "metadata": {},
   "outputs": [],
   "source": [
    "for root, _, filenames in os.walk('../Data/'):\n",
    "    for filename in filenames:\n",
    "        if filename.endswith('mp4'):\n",
    "            df_dict['filename'].append(os.path.join(root, filename))\n",
    "            df_dict['duration (s)'].append(librosa.get_duration(filename=os.path.join(root, filename)))"
   ]
  },
  {
   "cell_type": "code",
   "execution_count": 4,
   "id": "389d3621-8fee-4a12-b446-9e882f77fb44",
   "metadata": {},
   "outputs": [],
   "source": [
    "df_dict['singer'] = [val.split('_', 1)[0].rsplit('/', 1)[1] for val in df_dict['filename']]\n",
    "df_dict['raag'] = [val.rsplit('_', 1)[1].rsplit('.', 1)[0] for val in df_dict['filename']]\n",
    "df_dict['set'] = [val.split('../Data/', 1)[1].split('/', 1)[0] for val in df_dict['filename']]"
   ]
  },
  {
   "cell_type": "code",
   "execution_count": 5,
   "id": "c59b63d6-200f-4f29-8417-d675e7c38ccb",
   "metadata": {},
   "outputs": [],
   "source": [
    "df = pd.DataFrame(df_dict)"
   ]
  },
  {
   "cell_type": "code",
   "execution_count": 6,
   "id": "7a24cc32-d02e-4c12-acb3-49b4d22bce16",
   "metadata": {},
   "outputs": [
    {
     "data": {
      "text/html": [
       "<div>\n",
       "<style scoped>\n",
       "    .dataframe tbody tr th:only-of-type {\n",
       "        vertical-align: middle;\n",
       "    }\n",
       "\n",
       "    .dataframe tbody tr th {\n",
       "        vertical-align: top;\n",
       "    }\n",
       "\n",
       "    .dataframe thead th {\n",
       "        text-align: right;\n",
       "    }\n",
       "</style>\n",
       "<table border=\"1\" class=\"dataframe\">\n",
       "  <thead>\n",
       "    <tr style=\"text-align: right;\">\n",
       "      <th></th>\n",
       "      <th>duration (s)</th>\n",
       "    </tr>\n",
       "    <tr>\n",
       "      <th>set</th>\n",
       "      <th></th>\n",
       "    </tr>\n",
       "  </thead>\n",
       "  <tbody>\n",
       "    <tr>\n",
       "      <td>Alap</td>\n",
       "      <td>10501.2</td>\n",
       "    </tr>\n",
       "    <tr>\n",
       "      <td>Pakad</td>\n",
       "      <td>1113.4</td>\n",
       "    </tr>\n",
       "  </tbody>\n",
       "</table>\n",
       "</div>"
      ],
      "text/plain": [
       "       duration (s)\n",
       "set                \n",
       "Alap        10501.2\n",
       "Pakad        1113.4"
      ]
     },
     "execution_count": 6,
     "metadata": {},
     "output_type": "execute_result"
    }
   ],
   "source": [
    "df.groupby(by=['set']).sum()"
   ]
  },
  {
   "cell_type": "code",
   "execution_count": 18,
   "id": "015d3146-468d-4a09-ac36-c91d0d2cded5",
   "metadata": {},
   "outputs": [
    {
     "data": {
      "text/html": [
       "<div>\n",
       "<style scoped>\n",
       "    .dataframe tbody tr th:only-of-type {\n",
       "        vertical-align: middle;\n",
       "    }\n",
       "\n",
       "    .dataframe tbody tr th {\n",
       "        vertical-align: top;\n",
       "    }\n",
       "\n",
       "    .dataframe thead th {\n",
       "        text-align: right;\n",
       "    }\n",
       "</style>\n",
       "<table border=\"1\" class=\"dataframe\">\n",
       "  <thead>\n",
       "    <tr style=\"text-align: right;\">\n",
       "      <th></th>\n",
       "      <th></th>\n",
       "      <th>filename</th>\n",
       "      <th>duration (s)</th>\n",
       "      <th>raag</th>\n",
       "      <th>samples</th>\n",
       "    </tr>\n",
       "    <tr>\n",
       "      <th>singer</th>\n",
       "      <th>set</th>\n",
       "      <th></th>\n",
       "      <th></th>\n",
       "      <th></th>\n",
       "      <th></th>\n",
       "    </tr>\n",
       "  </thead>\n",
       "  <tbody>\n",
       "    <tr>\n",
       "      <td rowspan=\"2\" valign=\"top\">AG</td>\n",
       "      <td>Alap</td>\n",
       "      <td>../Data/Alap/AG_9b_Shree/AG_9b_Shree.mp4</td>\n",
       "      <td>192.0</td>\n",
       "      <td>Shree</td>\n",
       "      <td>21.500</td>\n",
       "    </tr>\n",
       "    <tr>\n",
       "      <td>Pakad</td>\n",
       "      <td>../Data/Pakad/AG_P9_Bilas/AG_P9_Bilas.mp4</td>\n",
       "      <td>19.8</td>\n",
       "      <td>Shree</td>\n",
       "      <td>-0.025</td>\n",
       "    </tr>\n",
       "    <tr>\n",
       "      <td rowspan=\"2\" valign=\"top\">CC</td>\n",
       "      <td>Alap</td>\n",
       "      <td>../Data/Alap/CC_9b_Bahar/CC_9b_Bahar.mp4</td>\n",
       "      <td>221.0</td>\n",
       "      <td>Shree</td>\n",
       "      <td>25.125</td>\n",
       "    </tr>\n",
       "    <tr>\n",
       "      <td>Pakad</td>\n",
       "      <td>../Data/Pakad/CC_P9_Bahar/CC_P9_Bahar.mp4</td>\n",
       "      <td>96.8</td>\n",
       "      <td>Shree</td>\n",
       "      <td>9.600</td>\n",
       "    </tr>\n",
       "    <tr>\n",
       "      <td rowspan=\"2\" valign=\"top\">SCh</td>\n",
       "      <td>Alap</td>\n",
       "      <td>../Data/Alap/SCh_9b_Bahar/SCh_9b_Bahar.mp4</td>\n",
       "      <td>213.4</td>\n",
       "      <td>Shree</td>\n",
       "      <td>24.175</td>\n",
       "    </tr>\n",
       "    <tr>\n",
       "      <td>Pakad</td>\n",
       "      <td>../Data/Pakad/SCh_P9b_Bahar/SCh_P9b_Bahar.mp4</td>\n",
       "      <td>26.6</td>\n",
       "      <td>Shree</td>\n",
       "      <td>0.825</td>\n",
       "    </tr>\n",
       "  </tbody>\n",
       "</table>\n",
       "</div>"
      ],
      "text/plain": [
       "                                                   filename  duration (s)  \\\n",
       "singer set                                                                  \n",
       "AG     Alap        ../Data/Alap/AG_9b_Shree/AG_9b_Shree.mp4         192.0   \n",
       "       Pakad      ../Data/Pakad/AG_P9_Bilas/AG_P9_Bilas.mp4          19.8   \n",
       "CC     Alap        ../Data/Alap/CC_9b_Bahar/CC_9b_Bahar.mp4         221.0   \n",
       "       Pakad      ../Data/Pakad/CC_P9_Bahar/CC_P9_Bahar.mp4          96.8   \n",
       "SCh    Alap      ../Data/Alap/SCh_9b_Bahar/SCh_9b_Bahar.mp4         213.4   \n",
       "       Pakad  ../Data/Pakad/SCh_P9b_Bahar/SCh_P9b_Bahar.mp4          26.6   \n",
       "\n",
       "               raag  samples  \n",
       "singer set                    \n",
       "AG     Alap   Shree   21.500  \n",
       "       Pakad  Shree   -0.025  \n",
       "CC     Alap   Shree   25.125  \n",
       "       Pakad  Shree    9.600  \n",
       "SCh    Alap   Shree   24.175  \n",
       "       Pakad  Shree    0.825  "
      ]
     },
     "execution_count": 18,
     "metadata": {},
     "output_type": "execute_result"
    }
   ],
   "source": [
    "df.groupby(by=['singer', 'set']).max()"
   ]
  },
  {
   "cell_type": "code",
   "execution_count": 8,
   "id": "bc81817f-1263-48bf-a54a-c8f121ca422f",
   "metadata": {},
   "outputs": [
    {
     "data": {
      "text/html": [
       "<div>\n",
       "<style scoped>\n",
       "    .dataframe tbody tr th:only-of-type {\n",
       "        vertical-align: middle;\n",
       "    }\n",
       "\n",
       "    .dataframe tbody tr th {\n",
       "        vertical-align: top;\n",
       "    }\n",
       "\n",
       "    .dataframe thead th {\n",
       "        text-align: right;\n",
       "    }\n",
       "</style>\n",
       "<table border=\"1\" class=\"dataframe\">\n",
       "  <thead>\n",
       "    <tr style=\"text-align: right;\">\n",
       "      <th></th>\n",
       "      <th></th>\n",
       "      <th>duration (s)</th>\n",
       "    </tr>\n",
       "    <tr>\n",
       "      <th>raag</th>\n",
       "      <th>set</th>\n",
       "      <th></th>\n",
       "    </tr>\n",
       "  </thead>\n",
       "  <tbody>\n",
       "    <tr>\n",
       "      <td rowspan=\"2\" valign=\"top\">Bag</td>\n",
       "      <td>Alap</td>\n",
       "      <td>189.85</td>\n",
       "    </tr>\n",
       "    <tr>\n",
       "      <td>Pakad</td>\n",
       "      <td>16.90</td>\n",
       "    </tr>\n",
       "    <tr>\n",
       "      <td rowspan=\"2\" valign=\"top\">Bahar</td>\n",
       "      <td>Alap</td>\n",
       "      <td>182.85</td>\n",
       "    </tr>\n",
       "    <tr>\n",
       "      <td>Pakad</td>\n",
       "      <td>17.15</td>\n",
       "    </tr>\n",
       "    <tr>\n",
       "      <td rowspan=\"2\" valign=\"top\">Bilas</td>\n",
       "      <td>Alap</td>\n",
       "      <td>184.65</td>\n",
       "    </tr>\n",
       "    <tr>\n",
       "      <td>Pakad</td>\n",
       "      <td>26.40</td>\n",
       "    </tr>\n",
       "    <tr>\n",
       "      <td rowspan=\"2\" valign=\"top\">Jaun</td>\n",
       "      <td>Alap</td>\n",
       "      <td>181.20</td>\n",
       "    </tr>\n",
       "    <tr>\n",
       "      <td>Pakad</td>\n",
       "      <td>17.95</td>\n",
       "    </tr>\n",
       "    <tr>\n",
       "      <td rowspan=\"2\" valign=\"top\">Kedar</td>\n",
       "      <td>Alap</td>\n",
       "      <td>186.45</td>\n",
       "    </tr>\n",
       "    <tr>\n",
       "      <td>Pakad</td>\n",
       "      <td>18.05</td>\n",
       "    </tr>\n",
       "    <tr>\n",
       "      <td rowspan=\"2\" valign=\"top\">MM</td>\n",
       "      <td>Alap</td>\n",
       "      <td>188.00</td>\n",
       "    </tr>\n",
       "    <tr>\n",
       "      <td>Pakad</td>\n",
       "      <td>21.55</td>\n",
       "    </tr>\n",
       "    <tr>\n",
       "      <td rowspan=\"2\" valign=\"top\">Marwa</td>\n",
       "      <td>Alap</td>\n",
       "      <td>191.50</td>\n",
       "    </tr>\n",
       "    <tr>\n",
       "      <td>Pakad</td>\n",
       "      <td>18.35</td>\n",
       "    </tr>\n",
       "    <tr>\n",
       "      <td rowspan=\"2\" valign=\"top\">Nand</td>\n",
       "      <td>Alap</td>\n",
       "      <td>190.20</td>\n",
       "    </tr>\n",
       "    <tr>\n",
       "      <td>Pakad</td>\n",
       "      <td>18.70</td>\n",
       "    </tr>\n",
       "    <tr>\n",
       "      <td rowspan=\"2\" valign=\"top\">Shree</td>\n",
       "      <td>Alap</td>\n",
       "      <td>200.05</td>\n",
       "    </tr>\n",
       "    <tr>\n",
       "      <td>Pakad</td>\n",
       "      <td>19.50</td>\n",
       "    </tr>\n",
       "  </tbody>\n",
       "</table>\n",
       "</div>"
      ],
      "text/plain": [
       "             duration (s)\n",
       "raag  set                \n",
       "Bag   Alap         189.85\n",
       "      Pakad         16.90\n",
       "Bahar Alap         182.85\n",
       "      Pakad         17.15\n",
       "Bilas Alap         184.65\n",
       "      Pakad         26.40\n",
       "Jaun  Alap         181.20\n",
       "      Pakad         17.95\n",
       "Kedar Alap         186.45\n",
       "      Pakad         18.05\n",
       "MM    Alap         188.00\n",
       "      Pakad         21.55\n",
       "Marwa Alap         191.50\n",
       "      Pakad         18.35\n",
       "Nand  Alap         190.20\n",
       "      Pakad         18.70\n",
       "Shree Alap         200.05\n",
       "      Pakad         19.50"
      ]
     },
     "execution_count": 8,
     "metadata": {},
     "output_type": "execute_result"
    }
   ],
   "source": [
    "df.groupby(by=['raag', 'set']).median()"
   ]
  },
  {
   "cell_type": "code",
   "execution_count": 9,
   "id": "b44efa41-5e61-40f5-91c0-38cc760c7c62",
   "metadata": {},
   "outputs": [
    {
     "data": {
      "image/png": "[encoded data removed]",
      "text/plain": [
       "<Figure size 1008x720 with 1 Axes>"
      ]
     },
     "metadata": {
      "needs_background": "light"
     },
     "output_type": "display_data"
    }
   ],
   "source": [
    "df.loc[df['set'] == 'Alap'].groupby(by=['singer']).boxplot(subplots=False, figsize=(14, 10))\n",
    "plt.title('Alap')\n",
    "plt.savefig('../Figs/duration-alap.jpg')"
   ]
  },
  {
   "cell_type": "code",
   "execution_count": 10,
   "id": "32c60dbd-ff6a-41ab-8bd4-0c837ef12304",
   "metadata": {},
   "outputs": [
    {
     "data": {
      "image/png": "[encoded data removed]",
      "text/plain": [
       "<Figure size 1008x720 with 1 Axes>"
      ]
     },
     "metadata": {
      "needs_background": "light"
     },
     "output_type": "display_data"
    }
   ],
   "source": [
    "df.loc[df['set'] == 'Pakad'].groupby(by=['singer']).boxplot(subplots=False, figsize=(14, 10))\n",
    "plt.title('Pakad')\n",
    "plt.savefig('../Figs/duration-pakad.jpg')"
   ]
  },
  {
   "cell_type": "code",
   "execution_count": 11,
   "id": "c032e669-b852-492e-a396-82c16bc04c09",
   "metadata": {},
   "outputs": [
    {
     "data": {
      "text/plain": [
       "filename        12\n",
       "duration (s)    12\n",
       "singer          12\n",
       "raag            12\n",
       "set             12\n",
       "dtype: int64"
      ]
     },
     "execution_count": 11,
     "metadata": {},
     "output_type": "execute_result"
    }
   ],
   "source": [
    "df.loc[(df['duration (s)'] < 15) & (df['set'] == 'Pakad')].count()"
   ]
  },
  {
   "cell_type": "code",
   "execution_count": 26,
   "id": "4156ee0e-c050-4413-8fe6-9065a7498c12",
   "metadata": {},
   "outputs": [],
   "source": [
    "hop_size=1.6\n",
    "df['samples'] = (df['duration (s)']-12)/hop_size\n",
    "df.loc[df['samples'] < 0, 'samples'] = 1"
   ]
  },
  {
   "cell_type": "code",
   "execution_count": 28,
   "id": "ad9cf528-a0c1-44f5-9e41-eb9fa291c128",
   "metadata": {},
   "outputs": [
    {
     "data": {
      "text/plain": [
       "430.0"
      ]
     },
     "execution_count": 28,
     "metadata": {},
     "output_type": "execute_result"
    }
   ],
   "source": [
    "df.loc[df['set'] == 'Pakad', 'samples'].sum()"
   ]
  },
  {
   "cell_type": "code",
   "execution_count": 30,
   "id": "65217e40-ef0f-4042-8ae4-304f65221b6f",
   "metadata": {},
   "outputs": [
    {
     "data": {
      "text/plain": [
       "190.93090909090904"
      ]
     },
     "execution_count": 30,
     "metadata": {},
     "output_type": "execute_result"
    }
   ],
   "source": [
    "df.loc[df['set'] == 'Alap', 'duration (s)'].mean()"
   ]
  },
  {
   "cell_type": "code",
   "execution_count": null,
   "id": "4398c5d8-6377-4094-9f69-3ede9c1bb4ea",
   "metadata": {},
   "outputs": [],
   "source": []
  }
 ],
 "metadata": {
  "kernelspec": {
   "display_name": "Python 3.7.9 64-bit ('deepsrgm': conda)",
   "language": "python",
   "name": "python379jvsc74a57bd05e280c40e46fea33a070042eb348413728299d4ca7caecb7cf353f6ca7f48a9f"
  },
  "language_info": {
   "codemirror_mode": {
    "name": "ipython",
    "version": 3
   },
   "file_extension": ".py",
   "mimetype": "text/x-python",
   "name": "python",
   "nbconvert_exporter": "python",
   "pygments_lexer": "ipython3",
   "version": "3.6.13"
  }
 },
 "nbformat": 4,
 "nbformat_minor": 5
}
