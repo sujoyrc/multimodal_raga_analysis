{
 "cells": [
  {
   "cell_type": "code",
   "execution_count": 1,
   "id": "25656ba2-815a-442b-af55-21de6d2aa464",
   "metadata": {},
   "outputs": [],
   "source": [
    "import pandas as pd\n",
    "import numpy as np"
   ]
  },
  {
   "cell_type": "code",
   "execution_count": 2,
   "id": "7d2c2493-22ab-4fb5-96b8-3b7157a3fd3e",
   "metadata": {},
   "outputs": [],
   "source": [
    "summary = pd.read_csv('../Seqs/summary.csv')\n",
    "split_file = '../Seqs/splits/easy_1/easy_split_1_test-AG.txt'"
   ]
  },
  {
   "cell_type": "code",
   "execution_count": 3,
   "id": "533b77a5-e26c-499b-8d90-a266f61d50fb",
   "metadata": {},
   "outputs": [],
   "source": [
    "summary['folder'] = [x.rsplit('_', 1)[0] for x in summary.unique_id]"
   ]
  },
  {
   "cell_type": "code",
   "execution_count": 15,
   "id": "e36477f7-ee34-4c20-a29b-718aae791990",
   "metadata": {},
   "outputs": [
    {
     "data": {
      "text/plain": [
       "['AG_1b_Jaun',\n",
       " 'AG_2b_Marwa',\n",
       " 'AG_3b_Bag',\n",
       " 'AG_4b_Nand',\n",
       " 'AG_5b_MM',\n",
       " 'AG_6b_Bilas',\n",
       " 'AG_7b_Bahar',\n",
       " 'AG_8_Kedar',\n",
       " 'AG_9b_Shree']"
      ]
     },
     "execution_count": 15,
     "metadata": {},
     "output_type": "execute_result"
    }
   ],
   "source": [
    "test_folders"
   ]
  },
  {
   "cell_type": "code",
   "execution_count": 4,
   "id": "7e9fb96c-9670-4f98-9280-940ae38604aa",
   "metadata": {},
   "outputs": [],
   "source": [
    "with open(split_file, 'r') as f:\n",
    "    x = f.readlines()\n",
    "test_folders = [y.rstrip('\\n') for y in x]"
   ]
  },
  {
   "cell_type": "code",
   "execution_count": 25,
   "id": "d8ca11b5-c95e-4f15-89cd-04a59abbf2f3",
   "metadata": {},
   "outputs": [],
   "source": [
    "def calc(target_sum, current_sum, elements_used, elements_left, val_files, train_files):\n",
    "    if current_sum >= target or len(elements_left) == 0:\n",
    "        results.append([target, current_sum, val_files, train_files])\n",
    "        return None\n",
    "        \n",
    "    diff = target - current_sum\n",
    "    best_ind = np.argmin(np.abs(elements_left - diff))\n",
    "    current_sum += elements_left[best_ind]\n",
    "    elements_used = np.append(elements_used, elements_left[best_ind])\n",
    "    val_files = np.append(val_files, train_files[best_ind])\n",
    "    elements_left = np.delete(elements_left, best_ind)\n",
    "    train_files = np.delete(train_files, best_ind)\n",
    "    \n",
    "    calc(target_sum, current_sum, elements_used, elements_left, val_files, train_files)"
   ]
  },
  {
   "cell_type": "code",
   "execution_count": 26,
   "id": "41ae7fd2-5a92-46a0-89de-c073a5707329",
   "metadata": {},
   "outputs": [
    {
     "name": "stdout",
     "output_type": "stream",
     "text": [
      "[[108, 110, array(['AG_3a_Bag', 'AG_P7_Bag'], dtype='<U32'), array(['CC_8a_Bag', 'CC_8b_Bag', 'CC_P8_Bag', 'SCh_8a_Bag', 'SCh_8b_Bag',\n",
      "       'SCh_P8a_Bag'], dtype='<U11'), 'Bag', 'SCh_P8a_Bag']]\n",
      "[[108, 110, array(['AG_3a_Bag', 'AG_P7_Bag'], dtype='<U32'), array(['CC_8a_Bag', 'CC_8b_Bag', 'CC_P8_Bag', 'SCh_8a_Bag', 'SCh_8b_Bag',\n",
      "       'SCh_P8a_Bag'], dtype='<U11'), 'Bag', 'SCh_P8a_Bag'], [101, 105, array(['AG_7a_Bahar'], dtype='<U32'), array(['CC_9a_Bahar', 'CC_9b_Bahar', 'CC_P9_Bahar', 'SCh_9a_Bahar',\n",
      "       'SCh_9b_Bahar', 'SCh_P9a_Bahar'], dtype='<U13'), 'Bahar', 'SCh_P9a_Bahar']]\n",
      "[[108, 110, array(['AG_3a_Bag', 'AG_P7_Bag'], dtype='<U32'), array(['CC_8a_Bag', 'CC_8b_Bag', 'CC_P8_Bag', 'SCh_8a_Bag', 'SCh_8b_Bag',\n",
      "       'SCh_P8a_Bag'], dtype='<U11'), 'Bag', 'SCh_P8a_Bag'], [101, 105, array(['AG_7a_Bahar'], dtype='<U32'), array(['CC_9a_Bahar', 'CC_9b_Bahar', 'CC_P9_Bahar', 'SCh_9a_Bahar',\n",
      "       'SCh_9b_Bahar', 'SCh_P9a_Bahar'], dtype='<U13'), 'Bahar', 'SCh_P9a_Bahar'], [105, 105, array(['CC_1a_Bilas'], dtype='<U32'), array(['AG_6a_Bilas', 'AG_P9_Bilas', 'CC_1b_Bilas', 'CC_P1a_Bilas',\n",
      "       'CC_P1b_Bilas', 'SCh_1a_Bilas', 'SCh_1b_Bilas', 'SCh_P1a_Bilas',\n",
      "       'SCh_P1b_Bilas'], dtype='<U13'), 'Bilas', 'SCh_P1b_Bilas']]\n",
      "[[108, 110, array(['AG_3a_Bag', 'AG_P7_Bag'], dtype='<U32'), array(['CC_8a_Bag', 'CC_8b_Bag', 'CC_P8_Bag', 'SCh_8a_Bag', 'SCh_8b_Bag',\n",
      "       'SCh_P8a_Bag'], dtype='<U11'), 'Bag', 'SCh_P8a_Bag'], [101, 105, array(['AG_7a_Bahar'], dtype='<U32'), array(['CC_9a_Bahar', 'CC_9b_Bahar', 'CC_P9_Bahar', 'SCh_9a_Bahar',\n",
      "       'SCh_9b_Bahar', 'SCh_P9a_Bahar'], dtype='<U13'), 'Bahar', 'SCh_P9a_Bahar'], [105, 105, array(['CC_1a_Bilas'], dtype='<U32'), array(['AG_6a_Bilas', 'AG_P9_Bilas', 'CC_1b_Bilas', 'CC_P1a_Bilas',\n",
      "       'CC_P1b_Bilas', 'SCh_1a_Bilas', 'SCh_1b_Bilas', 'SCh_P1a_Bilas',\n",
      "       'SCh_P1b_Bilas'], dtype='<U13'), 'Bilas', 'SCh_P1b_Bilas'], [104, 105, array(['AG_1a_Jaun'], dtype='<U32'), array(['AG_P2_Jaun', 'CC_2a_Jaun', 'CC_2b_Jaun', 'CC_P2_Jaun',\n",
      "       'SCh_2a_Jaun', 'SCh_2b_Jaun', 'SCh_P2a_Jaun', 'SCh_P2b_Jaun'],\n",
      "      dtype='<U12'), 'Jaun', 'SCh_P2b_Jaun']]\n",
      "[[108, 110, array(['AG_3a_Bag', 'AG_P7_Bag'], dtype='<U32'), array(['CC_8a_Bag', 'CC_8b_Bag', 'CC_P8_Bag', 'SCh_8a_Bag', 'SCh_8b_Bag',\n",
      "       'SCh_P8a_Bag'], dtype='<U11'), 'Bag', 'SCh_P8a_Bag'], [101, 105, array(['AG_7a_Bahar'], dtype='<U32'), array(['CC_9a_Bahar', 'CC_9b_Bahar', 'CC_P9_Bahar', 'SCh_9a_Bahar',\n",
      "       'SCh_9b_Bahar', 'SCh_P9a_Bahar'], dtype='<U13'), 'Bahar', 'SCh_P9a_Bahar'], [105, 105, array(['CC_1a_Bilas'], dtype='<U32'), array(['AG_6a_Bilas', 'AG_P9_Bilas', 'CC_1b_Bilas', 'CC_P1a_Bilas',\n",
      "       'CC_P1b_Bilas', 'SCh_1a_Bilas', 'SCh_1b_Bilas', 'SCh_P1a_Bilas',\n",
      "       'SCh_P1b_Bilas'], dtype='<U13'), 'Bilas', 'SCh_P1b_Bilas'], [104, 105, array(['AG_1a_Jaun'], dtype='<U32'), array(['AG_P2_Jaun', 'CC_2a_Jaun', 'CC_2b_Jaun', 'CC_P2_Jaun',\n",
      "       'SCh_2a_Jaun', 'SCh_2b_Jaun', 'SCh_P2a_Jaun', 'SCh_P2b_Jaun'],\n",
      "      dtype='<U12'), 'Jaun', 'SCh_P2b_Jaun'], [106, 106, array(['SCh_6a_Kedar', 'AG_P3_Kedar'], dtype='<U32'), array(['CC_6a_Kedar', 'CC_6b_Kedar', 'CC_P6_Kedar', 'SCh_6b_Kedar',\n",
      "       'SCh_6c_Kedar', 'SCh_P6a_Kedar', 'SCh_P6b_Kedar'], dtype='<U13'), 'Kedar', 'SCh_P6b_Kedar']]\n",
      "[[108, 110, array(['AG_3a_Bag', 'AG_P7_Bag'], dtype='<U32'), array(['CC_8a_Bag', 'CC_8b_Bag', 'CC_P8_Bag', 'SCh_8a_Bag', 'SCh_8b_Bag',\n",
      "       'SCh_P8a_Bag'], dtype='<U11'), 'Bag', 'SCh_P8a_Bag'], [101, 105, array(['AG_7a_Bahar'], dtype='<U32'), array(['CC_9a_Bahar', 'CC_9b_Bahar', 'CC_P9_Bahar', 'SCh_9a_Bahar',\n",
      "       'SCh_9b_Bahar', 'SCh_P9a_Bahar'], dtype='<U13'), 'Bahar', 'SCh_P9a_Bahar'], [105, 105, array(['CC_1a_Bilas'], dtype='<U32'), array(['AG_6a_Bilas', 'AG_P9_Bilas', 'CC_1b_Bilas', 'CC_P1a_Bilas',\n",
      "       'CC_P1b_Bilas', 'SCh_1a_Bilas', 'SCh_1b_Bilas', 'SCh_P1a_Bilas',\n",
      "       'SCh_P1b_Bilas'], dtype='<U13'), 'Bilas', 'SCh_P1b_Bilas'], [104, 105, array(['AG_1a_Jaun'], dtype='<U32'), array(['AG_P2_Jaun', 'CC_2a_Jaun', 'CC_2b_Jaun', 'CC_P2_Jaun',\n",
      "       'SCh_2a_Jaun', 'SCh_2b_Jaun', 'SCh_P2a_Jaun', 'SCh_P2b_Jaun'],\n",
      "      dtype='<U12'), 'Jaun', 'SCh_P2b_Jaun'], [106, 106, array(['SCh_6a_Kedar', 'AG_P3_Kedar'], dtype='<U32'), array(['CC_6a_Kedar', 'CC_6b_Kedar', 'CC_P6_Kedar', 'SCh_6b_Kedar',\n",
      "       'SCh_6c_Kedar', 'SCh_P6a_Kedar', 'SCh_P6b_Kedar'], dtype='<U13'), 'Kedar', 'SCh_P6b_Kedar'], [126, 127, array(['CC_3a_MM', 'AG_P1_MM'], dtype='<U32'), array(['AG_5a_MM', 'CC_3b_MM', 'CC_P3_MM', 'SCh_3a_MM', 'SCh_3b_MM',\n",
      "       'SCh_3c_MM', 'SCh_P3a_MM', 'SCh_P3b_MM'], dtype='<U10'), 'MM', 'SCh_P3b_MM']]\n",
      "[[108, 110, array(['AG_3a_Bag', 'AG_P7_Bag'], dtype='<U32'), array(['CC_8a_Bag', 'CC_8b_Bag', 'CC_P8_Bag', 'SCh_8a_Bag', 'SCh_8b_Bag',\n",
      "       'SCh_P8a_Bag'], dtype='<U11'), 'Bag', 'SCh_P8a_Bag'], [101, 105, array(['AG_7a_Bahar'], dtype='<U32'), array(['CC_9a_Bahar', 'CC_9b_Bahar', 'CC_P9_Bahar', 'SCh_9a_Bahar',\n",
      "       'SCh_9b_Bahar', 'SCh_P9a_Bahar'], dtype='<U13'), 'Bahar', 'SCh_P9a_Bahar'], [105, 105, array(['CC_1a_Bilas'], dtype='<U32'), array(['AG_6a_Bilas', 'AG_P9_Bilas', 'CC_1b_Bilas', 'CC_P1a_Bilas',\n",
      "       'CC_P1b_Bilas', 'SCh_1a_Bilas', 'SCh_1b_Bilas', 'SCh_P1a_Bilas',\n",
      "       'SCh_P1b_Bilas'], dtype='<U13'), 'Bilas', 'SCh_P1b_Bilas'], [104, 105, array(['AG_1a_Jaun'], dtype='<U32'), array(['AG_P2_Jaun', 'CC_2a_Jaun', 'CC_2b_Jaun', 'CC_P2_Jaun',\n",
      "       'SCh_2a_Jaun', 'SCh_2b_Jaun', 'SCh_P2a_Jaun', 'SCh_P2b_Jaun'],\n",
      "      dtype='<U12'), 'Jaun', 'SCh_P2b_Jaun'], [106, 106, array(['SCh_6a_Kedar', 'AG_P3_Kedar'], dtype='<U32'), array(['CC_6a_Kedar', 'CC_6b_Kedar', 'CC_P6_Kedar', 'SCh_6b_Kedar',\n",
      "       'SCh_6c_Kedar', 'SCh_P6a_Kedar', 'SCh_P6b_Kedar'], dtype='<U13'), 'Kedar', 'SCh_P6b_Kedar'], [126, 127, array(['CC_3a_MM', 'AG_P1_MM'], dtype='<U32'), array(['AG_5a_MM', 'CC_3b_MM', 'CC_P3_MM', 'SCh_3a_MM', 'SCh_3b_MM',\n",
      "       'SCh_3c_MM', 'SCh_P3a_MM', 'SCh_P3b_MM'], dtype='<U10'), 'MM', 'SCh_P3b_MM'], [111, 111, array(['CC_7a_Marwa'], dtype='<U32'), array(['AG_2a_Marwa', 'AG_P8_Marwa', 'CC_7b_Marwa', 'CC_P7_Marwa',\n",
      "       'SCh_7a_Marwa', 'SCh_7b_Marwa', 'SCh_P7a_Marwa', 'SCh_P7b_Marwa'],\n",
      "      dtype='<U13'), 'Marwa', 'SCh_P7b_Marwa']]\n",
      "[[108, 110, array(['AG_3a_Bag', 'AG_P7_Bag'], dtype='<U32'), array(['CC_8a_Bag', 'CC_8b_Bag', 'CC_P8_Bag', 'SCh_8a_Bag', 'SCh_8b_Bag',\n",
      "       'SCh_P8a_Bag'], dtype='<U11'), 'Bag', 'SCh_P8a_Bag'], [101, 105, array(['AG_7a_Bahar'], dtype='<U32'), array(['CC_9a_Bahar', 'CC_9b_Bahar', 'CC_P9_Bahar', 'SCh_9a_Bahar',\n",
      "       'SCh_9b_Bahar', 'SCh_P9a_Bahar'], dtype='<U13'), 'Bahar', 'SCh_P9a_Bahar'], [105, 105, array(['CC_1a_Bilas'], dtype='<U32'), array(['AG_6a_Bilas', 'AG_P9_Bilas', 'CC_1b_Bilas', 'CC_P1a_Bilas',\n",
      "       'CC_P1b_Bilas', 'SCh_1a_Bilas', 'SCh_1b_Bilas', 'SCh_P1a_Bilas',\n",
      "       'SCh_P1b_Bilas'], dtype='<U13'), 'Bilas', 'SCh_P1b_Bilas'], [104, 105, array(['AG_1a_Jaun'], dtype='<U32'), array(['AG_P2_Jaun', 'CC_2a_Jaun', 'CC_2b_Jaun', 'CC_P2_Jaun',\n",
      "       'SCh_2a_Jaun', 'SCh_2b_Jaun', 'SCh_P2a_Jaun', 'SCh_P2b_Jaun'],\n",
      "      dtype='<U12'), 'Jaun', 'SCh_P2b_Jaun'], [106, 106, array(['SCh_6a_Kedar', 'AG_P3_Kedar'], dtype='<U32'), array(['CC_6a_Kedar', 'CC_6b_Kedar', 'CC_P6_Kedar', 'SCh_6b_Kedar',\n",
      "       'SCh_6c_Kedar', 'SCh_P6a_Kedar', 'SCh_P6b_Kedar'], dtype='<U13'), 'Kedar', 'SCh_P6b_Kedar'], [126, 127, array(['CC_3a_MM', 'AG_P1_MM'], dtype='<U32'), array(['AG_5a_MM', 'CC_3b_MM', 'CC_P3_MM', 'SCh_3a_MM', 'SCh_3b_MM',\n",
      "       'SCh_3c_MM', 'SCh_P3a_MM', 'SCh_P3b_MM'], dtype='<U10'), 'MM', 'SCh_P3b_MM'], [111, 111, array(['CC_7a_Marwa'], dtype='<U32'), array(['AG_2a_Marwa', 'AG_P8_Marwa', 'CC_7b_Marwa', 'CC_P7_Marwa',\n",
      "       'SCh_7a_Marwa', 'SCh_7b_Marwa', 'SCh_P7a_Marwa', 'SCh_P7b_Marwa'],\n",
      "      dtype='<U13'), 'Marwa', 'SCh_P7b_Marwa'], [106, 109, array(['AG_4a_Nand'], dtype='<U32'), array(['CC_4a_Nand', 'CC_4b_Nand', 'CC_P4_Nand', 'SCh_4a_Nand',\n",
      "       'SCh_4b_Nand', 'SCh_P4a_Nand'], dtype='<U12'), 'Nand', 'SCh_P4a_Nand']]\n",
      "[[108, 110, array(['AG_3a_Bag', 'AG_P7_Bag'], dtype='<U32'), array(['CC_8a_Bag', 'CC_8b_Bag', 'CC_P8_Bag', 'SCh_8a_Bag', 'SCh_8b_Bag',\n",
      "       'SCh_P8a_Bag'], dtype='<U11'), 'Bag', 'SCh_P8a_Bag'], [101, 105, array(['AG_7a_Bahar'], dtype='<U32'), array(['CC_9a_Bahar', 'CC_9b_Bahar', 'CC_P9_Bahar', 'SCh_9a_Bahar',\n",
      "       'SCh_9b_Bahar', 'SCh_P9a_Bahar'], dtype='<U13'), 'Bahar', 'SCh_P9a_Bahar'], [105, 105, array(['CC_1a_Bilas'], dtype='<U32'), array(['AG_6a_Bilas', 'AG_P9_Bilas', 'CC_1b_Bilas', 'CC_P1a_Bilas',\n",
      "       'CC_P1b_Bilas', 'SCh_1a_Bilas', 'SCh_1b_Bilas', 'SCh_P1a_Bilas',\n",
      "       'SCh_P1b_Bilas'], dtype='<U13'), 'Bilas', 'SCh_P1b_Bilas'], [104, 105, array(['AG_1a_Jaun'], dtype='<U32'), array(['AG_P2_Jaun', 'CC_2a_Jaun', 'CC_2b_Jaun', 'CC_P2_Jaun',\n",
      "       'SCh_2a_Jaun', 'SCh_2b_Jaun', 'SCh_P2a_Jaun', 'SCh_P2b_Jaun'],\n",
      "      dtype='<U12'), 'Jaun', 'SCh_P2b_Jaun'], [106, 106, array(['SCh_6a_Kedar', 'AG_P3_Kedar'], dtype='<U32'), array(['CC_6a_Kedar', 'CC_6b_Kedar', 'CC_P6_Kedar', 'SCh_6b_Kedar',\n",
      "       'SCh_6c_Kedar', 'SCh_P6a_Kedar', 'SCh_P6b_Kedar'], dtype='<U13'), 'Kedar', 'SCh_P6b_Kedar'], [126, 127, array(['CC_3a_MM', 'AG_P1_MM'], dtype='<U32'), array(['AG_5a_MM', 'CC_3b_MM', 'CC_P3_MM', 'SCh_3a_MM', 'SCh_3b_MM',\n",
      "       'SCh_3c_MM', 'SCh_P3a_MM', 'SCh_P3b_MM'], dtype='<U10'), 'MM', 'SCh_P3b_MM'], [111, 111, array(['CC_7a_Marwa'], dtype='<U32'), array(['AG_2a_Marwa', 'AG_P8_Marwa', 'CC_7b_Marwa', 'CC_P7_Marwa',\n",
      "       'SCh_7a_Marwa', 'SCh_7b_Marwa', 'SCh_P7a_Marwa', 'SCh_P7b_Marwa'],\n",
      "      dtype='<U13'), 'Marwa', 'SCh_P7b_Marwa'], [106, 109, array(['AG_4a_Nand'], dtype='<U32'), array(['CC_4a_Nand', 'CC_4b_Nand', 'CC_P4_Nand', 'SCh_4a_Nand',\n",
      "       'SCh_4b_Nand', 'SCh_P4a_Nand'], dtype='<U12'), 'Nand', 'SCh_P4a_Nand'], [114, 114, array(['SCh_5b_Shree', 'SCh_P5a_Shree'], dtype='<U32'), array(['AG_9a_Shree', 'CC_5a_Shree', 'CC_5b_Shree', 'CC_P5_Shree',\n",
      "       'SCh_5a_Shree', 'SCh_P5b_Shree'], dtype='<U13'), 'Shree', 'SCh_P5b_Shree']]\n"
     ]
    }
   ],
   "source": [
    "results = []\n",
    "for raga, raga_df in summary.groupby(['raga']):\n",
    "    train_filenames = []\n",
    "    counts = []\n",
    "    target = int(0.15*raga_df.groupby('folder').count()['unique_id'].sum())\n",
    "    for ind, row in raga_df.groupby('folder').count().iterrows():\n",
    "        if ind in test_folders:\n",
    "            continue\n",
    "        else:\n",
    "            train_filenames.append(ind)\n",
    "            counts.append(row['unique_id'])\n",
    "    calc(target, 0, np.array([]), np.array(counts), np.array([]), np.array(train_filenames))\n",
    "    results[-1].extend([raga, ind])\n",
    "    print(results)"
   ]
  },
  {
   "cell_type": "code",
   "execution_count": 39,
   "id": "e732b507-6e97-4718-818a-ca882f115351",
   "metadata": {},
   "outputs": [
    {
     "data": {
      "text/plain": [
       "[114,\n",
       " 114,\n",
       " array(['SCh_5b_Shree', 'SCh_P5a_Shree'], dtype='<U32'),\n",
       " array(['AG_9a_Shree', 'CC_5a_Shree', 'CC_5b_Shree', 'CC_P5_Shree',\n",
       "        'SCh_5a_Shree', 'SCh_P5b_Shree'], dtype='<U13'),\n",
       " 'Shree',\n",
       " 'SCh_P5b_Shree']"
      ]
     },
     "execution_count": 39,
     "metadata": {},
     "output_type": "execute_result"
    }
   ],
   "source": [
    "results[8]"
   ]
  },
  {
   "cell_type": "code",
   "execution_count": null,
   "id": "b2730c56-208d-47c4-86dc-c01a95b9d026",
   "metadata": {},
   "outputs": [],
   "source": []
  }
 ],
 "metadata": {
  "kernelspec": {
   "display_name": "Python [conda env:gesture_anal] *",
   "language": "python",
   "name": "conda-env-gesture_anal-py"
  },
  "language_info": {
   "codemirror_mode": {
    "name": "ipython",
    "version": 3
   },
   "file_extension": ".py",
   "mimetype": "text/x-python",
   "name": "python",
   "nbconvert_exporter": "python",
   "pygments_lexer": "ipython3",
   "version": "3.8.12"
  }
 },
 "nbformat": 4,
 "nbformat_minor": 5
}
