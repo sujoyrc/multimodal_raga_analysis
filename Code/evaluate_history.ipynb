{
 "cells": [
  {
   "cell_type": "code",
   "execution_count": 1,
   "id": "2b663798-7c57-4104-bf6d-736f3dd70bd4",
   "metadata": {},
   "outputs": [],
   "source": [
    "import wandb\n",
    "import pandas as pd\n",
    "import matplotlib\n",
    "import matplotlib.pyplot as plt\n",
    "import numpy as np\n",
    "%matplotlib widget"
   ]
  },
  {
   "cell_type": "code",
   "execution_count": 2,
   "id": "3611d7b5-084b-41b5-a92d-4a152e73193f",
   "metadata": {},
   "outputs": [],
   "source": [
    "api = wandb.Api()\n",
    "run = api.run(\"snnithya/Gesture Analysis/1t70w94u\")"
   ]
  },
  {
   "cell_type": "code",
   "execution_count": 3,
   "id": "7feac184-1613-44c8-a74a-f0f81f2675ae",
   "metadata": {},
   "outputs": [
    {
     "data": {
      "text/plain": [
       "Index(['_step', 'loss', 'learning_rate', '_runtime', 'lr', 'accuracy', 'epoch',\n",
       "       'val_accuracy', '_timestamp', 'val_loss'],\n",
       "      dtype='object')"
      ]
     },
     "execution_count": 3,
     "metadata": {},
     "output_type": "execute_result"
    }
   ],
   "source": [
    "run.history().keys()"
   ]
  },
  {
   "cell_type": "code",
   "execution_count": 4,
   "id": "1a7abc48-a4eb-4577-8b67-1f05ccef6f13",
   "metadata": {},
   "outputs": [],
   "source": [
    "losses = [val['loss'] for val in run.scan_history()]\n",
    "accs = [val['accuracy'] for val in run.scan_history()]\n",
    "val_losses = [val['val_loss'] for val in run.scan_history()]\n",
    "val_accuracy = [val['val_accuracy'] for val in run.scan_history()]\n",
    "epochs = [val['epoch'] for val in run.scan_history()]"
   ]
  },
  {
   "cell_type": "code",
   "execution_count": 5,
   "id": "e19d5f58-308c-4db5-a702-6f1c08c267bd",
   "metadata": {},
   "outputs": [],
   "source": [
    "df = pd.DataFrame({'epoch': epochs, 'loss': losses, 'acc': accs, 'val_loss': val_losses, 'val_acc': val_accuracy})"
   ]
  },
  {
   "cell_type": "code",
   "execution_count": 6,
   "id": "76493e6a-486d-4d76-8935-e6542236fd94",
   "metadata": {},
   "outputs": [
    {
     "data": {
      "text/html": [
       "<div>\n",
       "<style scoped>\n",
       "    .dataframe tbody tr th:only-of-type {\n",
       "        vertical-align: middle;\n",
       "    }\n",
       "\n",
       "    .dataframe tbody tr th {\n",
       "        vertical-align: top;\n",
       "    }\n",
       "\n",
       "    .dataframe thead th {\n",
       "        text-align: right;\n",
       "    }\n",
       "</style>\n",
       "<table border=\"1\" class=\"dataframe\">\n",
       "  <thead>\n",
       "    <tr style=\"text-align: right;\">\n",
       "      <th></th>\n",
       "      <th>epoch</th>\n",
       "      <th>loss</th>\n",
       "      <th>acc</th>\n",
       "      <th>val_loss</th>\n",
       "      <th>val_acc</th>\n",
       "    </tr>\n",
       "  </thead>\n",
       "  <tbody>\n",
       "    <tr>\n",
       "      <th>0</th>\n",
       "      <td>0</td>\n",
       "      <td>5.347397</td>\n",
       "      <td>0.142934</td>\n",
       "      <td>5.089788</td>\n",
       "      <td>0.148148</td>\n",
       "    </tr>\n",
       "    <tr>\n",
       "      <th>1</th>\n",
       "      <td>1</td>\n",
       "      <td>5.103879</td>\n",
       "      <td>0.169946</td>\n",
       "      <td>5.034003</td>\n",
       "      <td>0.111111</td>\n",
       "    </tr>\n",
       "    <tr>\n",
       "      <th>2</th>\n",
       "      <td>2</td>\n",
       "      <td>4.977954</td>\n",
       "      <td>0.185868</td>\n",
       "      <td>4.979260</td>\n",
       "      <td>0.111111</td>\n",
       "    </tr>\n",
       "    <tr>\n",
       "      <th>3</th>\n",
       "      <td>3</td>\n",
       "      <td>4.894642</td>\n",
       "      <td>0.190519</td>\n",
       "      <td>4.925436</td>\n",
       "      <td>0.111111</td>\n",
       "    </tr>\n",
       "    <tr>\n",
       "      <th>4</th>\n",
       "      <td>4</td>\n",
       "      <td>4.803751</td>\n",
       "      <td>0.208408</td>\n",
       "      <td>4.873003</td>\n",
       "      <td>0.111111</td>\n",
       "    </tr>\n",
       "    <tr>\n",
       "      <th>...</th>\n",
       "      <td>...</td>\n",
       "      <td>...</td>\n",
       "      <td>...</td>\n",
       "      <td>...</td>\n",
       "      <td>...</td>\n",
       "    </tr>\n",
       "    <tr>\n",
       "      <th>3755</th>\n",
       "      <td>3755</td>\n",
       "      <td>1.053161</td>\n",
       "      <td>0.809302</td>\n",
       "      <td>0.857445</td>\n",
       "      <td>0.900206</td>\n",
       "    </tr>\n",
       "    <tr>\n",
       "      <th>3756</th>\n",
       "      <td>3756</td>\n",
       "      <td>1.056027</td>\n",
       "      <td>0.801431</td>\n",
       "      <td>0.857564</td>\n",
       "      <td>0.900206</td>\n",
       "    </tr>\n",
       "    <tr>\n",
       "      <th>3757</th>\n",
       "      <td>3757</td>\n",
       "      <td>1.050858</td>\n",
       "      <td>0.807335</td>\n",
       "      <td>0.860513</td>\n",
       "      <td>0.901235</td>\n",
       "    </tr>\n",
       "    <tr>\n",
       "      <th>3758</th>\n",
       "      <td>3758</td>\n",
       "      <td>1.066322</td>\n",
       "      <td>0.797853</td>\n",
       "      <td>0.857311</td>\n",
       "      <td>0.900206</td>\n",
       "    </tr>\n",
       "    <tr>\n",
       "      <th>3759</th>\n",
       "      <td>3759</td>\n",
       "      <td>1.061437</td>\n",
       "      <td>0.796780</td>\n",
       "      <td>0.859301</td>\n",
       "      <td>0.900206</td>\n",
       "    </tr>\n",
       "  </tbody>\n",
       "</table>\n",
       "<p>3760 rows × 5 columns</p>\n",
       "</div>"
      ],
      "text/plain": [
       "      epoch      loss       acc  val_loss   val_acc\n",
       "0         0  5.347397  0.142934  5.089788  0.148148\n",
       "1         1  5.103879  0.169946  5.034003  0.111111\n",
       "2         2  4.977954  0.185868  4.979260  0.111111\n",
       "3         3  4.894642  0.190519  4.925436  0.111111\n",
       "4         4  4.803751  0.208408  4.873003  0.111111\n",
       "...     ...       ...       ...       ...       ...\n",
       "3755   3755  1.053161  0.809302  0.857445  0.900206\n",
       "3756   3756  1.056027  0.801431  0.857564  0.900206\n",
       "3757   3757  1.050858  0.807335  0.860513  0.901235\n",
       "3758   3758  1.066322  0.797853  0.857311  0.900206\n",
       "3759   3759  1.061437  0.796780  0.859301  0.900206\n",
       "\n",
       "[3760 rows x 5 columns]"
      ]
     },
     "execution_count": 6,
     "metadata": {},
     "output_type": "execute_result"
    }
   ],
   "source": [
    "df"
   ]
  },
  {
   "cell_type": "code",
   "execution_count": 7,
   "id": "4bda0f9c-165e-47d5-8d92-9f8bbe3a3b9d",
   "metadata": {},
   "outputs": [],
   "source": [
    "min_val_loss = [val_losses[0]]\n",
    "min_val_loss.extend([min(val_losses[0:i]) for i in range(1, len(losses))])\n",
    "max_val_acc = [val_accuracy[0]]\n",
    "max_val_acc.extend([max(val_accuracy[0:i]) for i in range(1, len(losses))])"
   ]
  },
  {
   "cell_type": "code",
   "execution_count": 8,
   "id": "d8a58b66-7934-4da0-89e9-5818ae710064",
   "metadata": {},
   "outputs": [],
   "source": [
    "df['min_val_loss'] = min_val_loss\n",
    "df['max_val_accuracy'] = max_val_acc"
   ]
  },
  {
   "cell_type": "code",
   "execution_count": 9,
   "id": "dee73024-6c54-41df-9f9d-25ae81dc02e8",
   "metadata": {},
   "outputs": [],
   "source": [
    "thresh_vals = range(10, 200, 10)\n",
    "epoch = []"
   ]
  },
  {
   "cell_type": "code",
   "execution_count": 10,
   "id": "6222199f-e9ac-4daa-afb0-2bee8c4d1aa9",
   "metadata": {},
   "outputs": [],
   "source": [
    "for thresh in thresh_vals:\n",
    "    for i in range(thresh, len(max_val_acc)):\n",
    "        if max_val_acc[i] != max(val_accuracy[i-thresh: i]):\n",
    "            epoch.append(i)\n",
    "            break\n",
    "        else:\n",
    "            continue"
   ]
  },
  {
   "cell_type": "code",
   "execution_count": 11,
   "id": "dc44b023-6883-4183-8ae4-6c7a87cecd2c",
   "metadata": {},
   "outputs": [
    {
     "data": {
      "text/plain": [
       "<matplotlib.legend.Legend at 0x7fada5008b50>"
      ]
     },
     "execution_count": 11,
     "metadata": {},
     "output_type": "execute_result"
    },
    {
     "data": {
      "application/vnd.jupyter.widget-view+json": {
       "model_id": "a4b26edfc3134a14a7e147be0f97ee88",
       "version_major": 2,
       "version_minor": 0
      },
      "text/html": [
       "\n",
       "            <div style=\"display: inline-block;\">\n",
       "                <div class=\"jupyter-widgets widget-label\" style=\"text-align: center;\">\n",
       "                    Figure\n",
       "                </div>\n",
       "                <img src='data:image/png;base64,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' width=640.0/>\n",
       "            </div>\n",
       "        "
      ],
      "text/plain": [
       "Canvas(toolbar=Toolbar(toolitems=[('Home', 'Reset original view', 'home', 'home'), ('Back', 'Back to previous …"
      ]
     },
     "metadata": {},
     "output_type": "display_data"
    }
   ],
   "source": [
    "colors = plt.get_cmap('plasma', 200)\n",
    "df.plot(x='epoch', y=['val_loss', 'min_val_loss'])\n",
    "for i, e in enumerate(epoch):\n",
    "    plt.axvline(x=e, label=f'p={thresh_vals[i]}', c=colors(thresh_vals[i]))\n",
    "plt.legend()"
   ]
  },
  {
   "cell_type": "code",
   "execution_count": 12,
   "id": "b9431f39-7d52-4869-aeed-5cbb526f6b83",
   "metadata": {},
   "outputs": [
    {
     "data": {
      "text/plain": [
       "<matplotlib.legend.Legend at 0x7fada4f7ef70>"
      ]
     },
     "execution_count": 12,
     "metadata": {},
     "output_type": "execute_result"
    },
    {
     "data": {
      "application/vnd.jupyter.widget-view+json": {
       "model_id": "60b4f998e2b943b1810b2ddb341557d9",
       "version_major": 2,
       "version_minor": 0
      },
      "text/html": [
       "\n",
       "            <div style=\"display: inline-block;\">\n",
       "                <div class=\"jupyter-widgets widget-label\" style=\"text-align: center;\">\n",
       "                    Figure\n",
       "                </div>\n",
       "                <img src='data:image/png;base64,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' width=640.0/>\n",
       "            </div>\n",
       "        "
      ],
      "text/plain": [
       "Canvas(toolbar=Toolbar(toolitems=[('Home', 'Reset original view', 'home', 'home'), ('Back', 'Back to previous …"
      ]
     },
     "metadata": {},
     "output_type": "display_data"
    }
   ],
   "source": [
    "colors = plt.get_cmap('plasma', 200)\n",
    "df.plot(x='epoch', y=['val_acc', 'max_val_accuracy'])\n",
    "for i, e in enumerate(epoch):\n",
    "    plt.axvline(x=e, label=f'p={thresh_vals[i]}', c=colors(thresh_vals[i]))\n",
    "plt.legend()"
   ]
  },
  {
   "cell_type": "code",
   "execution_count": 13,
   "id": "3c9486d0-5e43-4980-841f-b4ec619d7858",
   "metadata": {},
   "outputs": [],
   "source": [
    "min_val_ratio = [val_losses[e]/min_val_loss[-1] for e in epoch]\n",
    "max_val_acc_ratio = [max_val_acc[e]/max_val_acc[-1] for e in epoch]\n",
    "val_accs_thresh = [max_val_acc[e] for e in epoch]\n",
    "val_loss_thresh = [min_val_loss[e] for e in epoch]"
   ]
  },
  {
   "cell_type": "code",
   "execution_count": 14,
   "id": "7bc58013-1606-4b1e-b753-c0ab2e9d54dd",
   "metadata": {},
   "outputs": [],
   "source": [
    "df_thresh = pd.DataFrame({'patience': thresh_vals, 'epoch': epoch, 'max_val_acc': max_val_acc_ratio, 'val_accuracy': val_accs_thresh, 'val_loss': val_loss_thresh})"
   ]
  },
  {
   "cell_type": "code",
   "execution_count": 15,
   "id": "6cc1ccf8-6ac0-48e7-9802-5fd73aea1edf",
   "metadata": {},
   "outputs": [
    {
     "data": {
      "text/html": [
       "<div>\n",
       "<style scoped>\n",
       "    .dataframe tbody tr th:only-of-type {\n",
       "        vertical-align: middle;\n",
       "    }\n",
       "\n",
       "    .dataframe tbody tr th {\n",
       "        vertical-align: top;\n",
       "    }\n",
       "\n",
       "    .dataframe thead th {\n",
       "        text-align: right;\n",
       "    }\n",
       "</style>\n",
       "<table border=\"1\" class=\"dataframe\">\n",
       "  <thead>\n",
       "    <tr style=\"text-align: right;\">\n",
       "      <th></th>\n",
       "      <th>patience</th>\n",
       "      <th>epoch</th>\n",
       "      <th>max_val_acc</th>\n",
       "      <th>val_accuracy</th>\n",
       "      <th>val_loss</th>\n",
       "    </tr>\n",
       "  </thead>\n",
       "  <tbody>\n",
       "    <tr>\n",
       "      <th>0</th>\n",
       "      <td>10</td>\n",
       "      <td>11</td>\n",
       "      <td>0.163451</td>\n",
       "      <td>0.148148</td>\n",
       "      <td>4.559140</td>\n",
       "    </tr>\n",
       "    <tr>\n",
       "      <th>1</th>\n",
       "      <td>20</td>\n",
       "      <td>198</td>\n",
       "      <td>0.910329</td>\n",
       "      <td>0.825103</td>\n",
       "      <td>1.342812</td>\n",
       "    </tr>\n",
       "    <tr>\n",
       "      <th>2</th>\n",
       "      <td>30</td>\n",
       "      <td>284</td>\n",
       "      <td>0.954597</td>\n",
       "      <td>0.865226</td>\n",
       "      <td>1.152735</td>\n",
       "    </tr>\n",
       "    <tr>\n",
       "      <th>3</th>\n",
       "      <td>40</td>\n",
       "      <td>365</td>\n",
       "      <td>0.993190</td>\n",
       "      <td>0.900206</td>\n",
       "      <td>1.044226</td>\n",
       "    </tr>\n",
       "    <tr>\n",
       "      <th>4</th>\n",
       "      <td>50</td>\n",
       "      <td>375</td>\n",
       "      <td>0.993190</td>\n",
       "      <td>0.900206</td>\n",
       "      <td>1.031676</td>\n",
       "    </tr>\n",
       "    <tr>\n",
       "      <th>5</th>\n",
       "      <td>60</td>\n",
       "      <td>385</td>\n",
       "      <td>0.993190</td>\n",
       "      <td>0.900206</td>\n",
       "      <td>1.029680</td>\n",
       "    </tr>\n",
       "    <tr>\n",
       "      <th>6</th>\n",
       "      <td>70</td>\n",
       "      <td>395</td>\n",
       "      <td>0.993190</td>\n",
       "      <td>0.900206</td>\n",
       "      <td>0.996979</td>\n",
       "    </tr>\n",
       "    <tr>\n",
       "      <th>7</th>\n",
       "      <td>80</td>\n",
       "      <td>405</td>\n",
       "      <td>0.993190</td>\n",
       "      <td>0.900206</td>\n",
       "      <td>0.996979</td>\n",
       "    </tr>\n",
       "    <tr>\n",
       "      <th>8</th>\n",
       "      <td>90</td>\n",
       "      <td>573</td>\n",
       "      <td>0.997730</td>\n",
       "      <td>0.904321</td>\n",
       "      <td>0.918464</td>\n",
       "    </tr>\n",
       "    <tr>\n",
       "      <th>9</th>\n",
       "      <td>100</td>\n",
       "      <td>583</td>\n",
       "      <td>0.997730</td>\n",
       "      <td>0.904321</td>\n",
       "      <td>0.912807</td>\n",
       "    </tr>\n",
       "    <tr>\n",
       "      <th>10</th>\n",
       "      <td>110</td>\n",
       "      <td>593</td>\n",
       "      <td>0.997730</td>\n",
       "      <td>0.904321</td>\n",
       "      <td>0.912807</td>\n",
       "    </tr>\n",
       "    <tr>\n",
       "      <th>11</th>\n",
       "      <td>120</td>\n",
       "      <td>718</td>\n",
       "      <td>0.998865</td>\n",
       "      <td>0.905350</td>\n",
       "      <td>0.892168</td>\n",
       "    </tr>\n",
       "    <tr>\n",
       "      <th>12</th>\n",
       "      <td>130</td>\n",
       "      <td>728</td>\n",
       "      <td>0.998865</td>\n",
       "      <td>0.905350</td>\n",
       "      <td>0.892168</td>\n",
       "    </tr>\n",
       "    <tr>\n",
       "      <th>13</th>\n",
       "      <td>140</td>\n",
       "      <td>738</td>\n",
       "      <td>0.998865</td>\n",
       "      <td>0.905350</td>\n",
       "      <td>0.892168</td>\n",
       "    </tr>\n",
       "    <tr>\n",
       "      <th>14</th>\n",
       "      <td>150</td>\n",
       "      <td>748</td>\n",
       "      <td>0.998865</td>\n",
       "      <td>0.905350</td>\n",
       "      <td>0.892168</td>\n",
       "    </tr>\n",
       "    <tr>\n",
       "      <th>15</th>\n",
       "      <td>160</td>\n",
       "      <td>758</td>\n",
       "      <td>0.998865</td>\n",
       "      <td>0.905350</td>\n",
       "      <td>0.892168</td>\n",
       "    </tr>\n",
       "    <tr>\n",
       "      <th>16</th>\n",
       "      <td>170</td>\n",
       "      <td>768</td>\n",
       "      <td>0.998865</td>\n",
       "      <td>0.905350</td>\n",
       "      <td>0.891259</td>\n",
       "    </tr>\n",
       "    <tr>\n",
       "      <th>17</th>\n",
       "      <td>180</td>\n",
       "      <td>778</td>\n",
       "      <td>0.998865</td>\n",
       "      <td>0.905350</td>\n",
       "      <td>0.890359</td>\n",
       "    </tr>\n",
       "    <tr>\n",
       "      <th>18</th>\n",
       "      <td>190</td>\n",
       "      <td>788</td>\n",
       "      <td>0.998865</td>\n",
       "      <td>0.905350</td>\n",
       "      <td>0.890359</td>\n",
       "    </tr>\n",
       "  </tbody>\n",
       "</table>\n",
       "</div>"
      ],
      "text/plain": [
       "    patience  epoch  max_val_acc  val_accuracy  val_loss\n",
       "0         10     11     0.163451      0.148148  4.559140\n",
       "1         20    198     0.910329      0.825103  1.342812\n",
       "2         30    284     0.954597      0.865226  1.152735\n",
       "3         40    365     0.993190      0.900206  1.044226\n",
       "4         50    375     0.993190      0.900206  1.031676\n",
       "5         60    385     0.993190      0.900206  1.029680\n",
       "6         70    395     0.993190      0.900206  0.996979\n",
       "7         80    405     0.993190      0.900206  0.996979\n",
       "8         90    573     0.997730      0.904321  0.918464\n",
       "9        100    583     0.997730      0.904321  0.912807\n",
       "10       110    593     0.997730      0.904321  0.912807\n",
       "11       120    718     0.998865      0.905350  0.892168\n",
       "12       130    728     0.998865      0.905350  0.892168\n",
       "13       140    738     0.998865      0.905350  0.892168\n",
       "14       150    748     0.998865      0.905350  0.892168\n",
       "15       160    758     0.998865      0.905350  0.892168\n",
       "16       170    768     0.998865      0.905350  0.891259\n",
       "17       180    778     0.998865      0.905350  0.890359\n",
       "18       190    788     0.998865      0.905350  0.890359"
      ]
     },
     "execution_count": 15,
     "metadata": {},
     "output_type": "execute_result"
    }
   ],
   "source": [
    "df_thresh"
   ]
  },
  {
   "cell_type": "code",
   "execution_count": 56,
   "id": "dcf689da-2a85-45dc-a1e7-f22ca7dde0d8",
   "metadata": {},
   "outputs": [
    {
     "data": {
      "text/plain": [
       "0.6142604351043701"
      ]
     },
     "execution_count": 56,
     "metadata": {},
     "output_type": "execute_result"
    }
   ],
   "source": [
    "max_val_acc[-1]"
   ]
  },
  {
   "cell_type": "code",
   "execution_count": null,
   "id": "3aff79ac-264c-4d7d-b928-4d12fc5b6b89",
   "metadata": {},
   "outputs": [],
   "source": []
  }
 ],
 "metadata": {
  "kernelspec": {
   "display_name": "Python [conda env:gesture_anal] *",
   "language": "python",
   "name": "conda-env-gesture_anal-py"
  },
  "language_info": {
   "codemirror_mode": {
    "name": "ipython",
    "version": 3
   },
   "file_extension": ".py",
   "mimetype": "text/x-python",
   "name": "python",
   "nbconvert_exporter": "python",
   "pygments_lexer": "ipython3",
   "version": "3.8.12"
  }
 },
 "nbformat": 4,
 "nbformat_minor": 5
}
