{
 "cells": [
  {
   "cell_type": "code",
   "execution_count": 31,
   "id": "d78cda88-870b-4e1c-9857-e37c00371da5",
   "metadata": {},
   "outputs": [],
   "source": [
    "import pandas as pd\n",
    "import matplotlib.pyplot as plt\n",
    "import numpy as np\n",
    "plt.style.use('ggplot')"
   ]
  },
  {
   "cell_type": "code",
   "execution_count": 32,
   "id": "d09311ee-fddc-4151-816b-8bff1fe14d6a",
   "metadata": {},
   "outputs": [],
   "source": [
    "hist_filename = '../Final Video Predictions/preds.csv'\n",
    "hist_df = pd.read_csv(hist_filename)"
   ]
  },
  {
   "cell_type": "code",
   "execution_count": 33,
   "id": "8ddabcc9-a9e5-4afa-ad80-50221edc4452",
   "metadata": {},
   "outputs": [],
   "source": [
    "n_000 = hist_df.loc[(hist_df['true class'] != hist_df['audio prediction']) &\n",
    "           (hist_df['true class'] != hist_df['video prediction']) &\n",
    "           (hist_df['true class'] != hist_df['audio-video prediction'])].shape[0]\n",
    "n_001 = hist_df.loc[(hist_df['true class'] != hist_df['audio prediction']) &\n",
    "           (hist_df['true class'] != hist_df['video prediction']) &\n",
    "           (hist_df['true class'] == hist_df['audio-video prediction'])].shape[0]\n",
    "n_010 = hist_df.loc[(hist_df['true class'] != hist_df['audio prediction']) &\n",
    "           (hist_df['true class'] == hist_df['video prediction']) &\n",
    "           (hist_df['true class'] != hist_df['audio-video prediction'])].shape[0]\n",
    "n_011 = hist_df.loc[(hist_df['true class'] != hist_df['audio prediction']) &\n",
    "           (hist_df['true class'] == hist_df['video prediction']) &\n",
    "           (hist_df['true class'] == hist_df['audio-video prediction'])].shape[0]\n",
    "n_100 = hist_df.loc[(hist_df['true class'] == hist_df['audio prediction']) &\n",
    "           (hist_df['true class'] != hist_df['video prediction']) &\n",
    "           (hist_df['true class'] != hist_df['audio-video prediction'])].shape[0]\n",
    "n_101 = hist_df.loc[(hist_df['true class'] == hist_df['audio prediction']) &\n",
    "           (hist_df['true class'] != hist_df['video prediction']) &\n",
    "           (hist_df['true class'] == hist_df['audio-video prediction'])].shape[0]\n",
    "n_110 = hist_df.loc[(hist_df['true class'] == hist_df['audio prediction']) &\n",
    "           (hist_df['true class'] == hist_df['video prediction']) &\n",
    "           (hist_df['true class'] != hist_df['audio-video prediction'])].shape[0]\n",
    "n_111 = hist_df.loc[(hist_df['true class'] == hist_df['audio prediction']) &\n",
    "           (hist_df['true class'] == hist_df['video prediction']) &\n",
    "           (hist_df['true class'] == hist_df['audio-video prediction'])].shape[0]\n",
    "n_vals = np.array([n_000, n_001, n_010, n_011, n_100, n_101, n_110, n_111])/hist_df.shape[0]"
   ]
  },
  {
   "cell_type": "code",
   "execution_count": 34,
   "id": "f0a99d26-007c-4e14-9718-faa771ac6334",
   "metadata": {},
   "outputs": [
    {
     "data": {
      "image/png": "[encoded data removed]",
      "text/plain": [
       "<Figure size 432x288 with 1 Axes>"
      ]
     },
     "metadata": {},
     "output_type": "display_data"
    }
   ],
   "source": [
    "rects = plt.bar(np.arange(0, 8), n_vals)\n",
    "for rect in rects:\n",
    "    height = rect.get_height()\n",
    "    plt.text(rect.get_x() + rect.get_width()/2., 1.05*height,\n",
    "                np.around(height*100, 1),\n",
    "                ha='center', va='bottom')\n",
    "plt.xticks(np.arange(0, 8), ['000', '001', '010', '011', '100', '101', '110', '111'])\n",
    "plt.yticks(np.arange(0, 0.7, 0.1), np.arange(0, 70, 10))\n",
    "plt.xlabel('Correctness of Audio/Video/Audio+Video Prediction')\n",
    "plt.ylabel('Percentage of samples (%)')\n",
    "plt.savefig('../Final Video Predictions/preds_hist.png')\n",
    "plt.savefig('../Final Video Predictions/preds_hist.pdf')"
   ]
  },
  {
   "cell_type": "code",
   "execution_count": 35,
   "id": "6b1f0e04-6523-4d2e-aeb7-f5af0f2abc23",
   "metadata": {},
   "outputs": [
    {
     "data": {
      "text/plain": [
       "3021"
      ]
     },
     "execution_count": 35,
     "metadata": {},
     "output_type": "execute_result"
    }
   ],
   "source": [
    "sum([n_000, n_001, n_010, n_011, n_100, n_101, n_110, n_111])"
   ]
  },
  {
   "cell_type": "code",
   "execution_count": null,
   "id": "dfdcebb8-830f-4c99-b7fa-79b0f69cf4f8",
   "metadata": {},
   "outputs": [],
   "source": []
  }
 ],
 "metadata": {
  "kernelspec": {
   "display_name": "Python [conda env:gesture_anal] *",
   "language": "python",
   "name": "conda-env-gesture_anal-py"
  },
  "language_info": {
   "codemirror_mode": {
    "name": "ipython",
    "version": 3
   },
   "file_extension": ".py",
   "mimetype": "text/x-python",
   "name": "python",
   "nbconvert_exporter": "python",
   "pygments_lexer": "ipython3",
   "version": "3.8.12"
  }
 },
 "nbformat": 4,
 "nbformat_minor": 5
}
