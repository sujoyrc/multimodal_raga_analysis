{
 "cells": [
  {
   "cell_type": "code",
   "execution_count": 1,
   "id": "b5eb2af8-c878-42ba-82fa-3b4380250aef",
   "metadata": {},
   "outputs": [],
   "source": [
    "import numpy as np"
   ]
  },
  {
   "cell_type": "code",
   "execution_count": 27,
   "id": "c0af039e-d80e-4baf-94d0-8d1d19079005",
   "metadata": {},
   "outputs": [],
   "source": [
    "file = '../Seqs/finalData/voicing/easy_1/AG-orig.npz'"
   ]
  },
  {
   "cell_type": "code",
   "execution_count": 28,
   "id": "9c3b5438-cc95-4037-8ecc-667cd887cdec",
   "metadata": {},
   "outputs": [],
   "source": [
    "vals = np.load(file)"
   ]
  },
  {
   "cell_type": "code",
   "execution_count": 29,
   "id": "52c2b1cd-5f05-42fc-99fc-df3cf54b8a07",
   "metadata": {},
   "outputs": [
    {
     "data": {
      "text/plain": [
       "(5590, 1200, 8)"
      ]
     },
     "execution_count": 29,
     "metadata": {},
     "output_type": "execute_result"
    }
   ],
   "source": [
    "vals['X_train'].shape"
   ]
  },
  {
   "cell_type": "code",
   "execution_count": 30,
   "id": "2b131b07-4497-410d-999d-fc47f3ca371e",
   "metadata": {},
   "outputs": [
    {
     "data": {
      "text/plain": [
       "(972, 1200, 8)"
      ]
     },
     "execution_count": 30,
     "metadata": {},
     "output_type": "execute_result"
    }
   ],
   "source": [
    "vals['X_test'].shape"
   ]
  },
  {
   "cell_type": "code",
   "execution_count": 31,
   "id": "62f51453-17a8-4c5a-be5c-bf1c1381bb68",
   "metadata": {},
   "outputs": [
    {
     "data": {
      "text/plain": [
       "(5590, 1)"
      ]
     },
     "execution_count": 31,
     "metadata": {},
     "output_type": "execute_result"
    }
   ],
   "source": [
    "vals['y_train'].shape"
   ]
  },
  {
   "cell_type": "code",
   "execution_count": 32,
   "id": "46d1ea79-37da-4363-a34f-af38360e3a9f",
   "metadata": {},
   "outputs": [
    {
     "data": {
      "text/plain": [
       "(972, 1)"
      ]
     },
     "execution_count": 32,
     "metadata": {},
     "output_type": "execute_result"
    }
   ],
   "source": [
    "vals['y_test'].shape"
   ]
  },
  {
   "cell_type": "code",
   "execution_count": 33,
   "id": "8bd50820-1223-4d28-9279-ae3e87dcbcc5",
   "metadata": {},
   "outputs": [
    {
     "data": {
      "text/plain": [
       "0"
      ]
     },
     "execution_count": 33,
     "metadata": {},
     "output_type": "execute_result"
    }
   ],
   "source": [
    "(np.isnan(vals['X_train'])).sum()"
   ]
  },
  {
   "cell_type": "code",
   "execution_count": 34,
   "id": "b3bddf5b-25ef-4074-b2fe-a1254226386e",
   "metadata": {},
   "outputs": [
    {
     "data": {
      "text/plain": [
       "0"
      ]
     },
     "execution_count": 34,
     "metadata": {},
     "output_type": "execute_result"
    }
   ],
   "source": [
    "(np.isnan(vals['X_test'])).sum()"
   ]
  },
  {
   "cell_type": "code",
   "execution_count": 35,
   "id": "4a983873-8343-46eb-b0c4-97e2af90f730",
   "metadata": {},
   "outputs": [],
   "source": [
    "from keras.utils import to_categorical\n",
    "\n",
    "y = to_categorical(vals['y_train'])"
   ]
  },
  {
   "cell_type": "code",
   "execution_count": 36,
   "id": "0b014815-3f5c-459d-a6ee-ce87590e6e6a",
   "metadata": {},
   "outputs": [
    {
     "data": {
      "text/plain": [
       "array([-550.     ,    0.     ,  -80.     ,   -0.87502,   -2.98485,\n",
       "         -3.36789,  -14.11584, -200.     ])"
      ]
     },
     "execution_count": 36,
     "metadata": {},
     "output_type": "execute_result"
    }
   ],
   "source": [
    "np.min(vals['X_train'], axis=(0, 1))"
   ]
  },
  {
   "cell_type": "code",
   "execution_count": 37,
   "id": "3160f221-8acc-4c69-b8c9-6ea8e43db22e",
   "metadata": {},
   "outputs": [
    {
     "data": {
      "text/plain": [
       "array([ 1.94692837e+03,  2.66000000e+02,  2.04703600e+01,  9.96590000e-01,\n",
       "        1.19579000e+00, -1.10491000e+00,  3.62282900e+01,  1.03258700e+01])"
      ]
     },
     "execution_count": 37,
     "metadata": {},
     "output_type": "execute_result"
    }
   ],
   "source": [
    "np.max(vals['X_train'], axis=(0, 1))"
   ]
  },
  {
   "cell_type": "code",
   "execution_count": 88,
   "id": "77dc4d0c-18a3-480b-9259-6296225c3c12",
   "metadata": {},
   "outputs": [
    {
     "data": {
      "text/plain": [
       "array([-68.16777, -68.27518, -67.98596, ...,   4.2689 ,   4.35855,\n",
       "         4.16574])"
      ]
     },
     "execution_count": 88,
     "metadata": {},
     "output_type": "execute_result"
    }
   ],
   "source": [
    "vals['X_train'][0, :, 1]"
   ]
  },
  {
   "cell_type": "code",
   "execution_count": null,
   "id": "09e4aa3b-ec56-4251-80ed-48dccea8a77c",
   "metadata": {},
   "outputs": [],
   "source": []
  }
 ],
 "metadata": {
  "kernelspec": {
   "display_name": "Python [conda env:gesture_anal] *",
   "language": "python",
   "name": "conda-env-gesture_anal-py"
  },
  "language_info": {
   "codemirror_mode": {
    "name": "ipython",
    "version": 3
   },
   "file_extension": ".py",
   "mimetype": "text/x-python",
   "name": "python",
   "nbconvert_exporter": "python",
   "pygments_lexer": "ipython3",
   "version": "3.8.12"
  }
 },
 "nbformat": 4,
 "nbformat_minor": 5
}
