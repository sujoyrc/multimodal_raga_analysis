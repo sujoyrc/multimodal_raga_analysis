{
 "cells": [
  {
   "cell_type": "code",
   "execution_count": 10,
   "id": "630df313-2a1e-4407-a0ea-c47d1f664355",
   "metadata": {},
   "outputs": [],
   "source": [
    "import librosa\n",
    "import pandas as pd\n",
    "import numpy as np\n",
    "import os"
   ]
  },
  {
   "cell_type": "code",
   "execution_count": 36,
   "id": "27e81174-1171-4c67-aa34-69893ebf203e",
   "metadata": {},
   "outputs": [],
   "source": [
    "bp_thresh=50\n",
    "phrase_voice_thresh=0\n",
    "time_step=0.01\n",
    "data_folder = '../Data/Pakad/'"
   ]
  },
  {
   "cell_type": "code",
   "execution_count": 37,
   "id": "a69f76f0-8028-4236-b99e-7133ee209d76",
   "metadata": {},
   "outputs": [],
   "source": [
    "def get_phrases(pitch_df, unvoiced_frame_val=-3000):\n",
    "    # create a dataframe with time, pitch, duration and end time columns with groups for repeated occurence of the same pitch value\n",
    "    group_pitches = pitch_df.iloc[(np.diff(pitch_df['pitch'].values, prepend=np.nan) != 0).nonzero()][['time', 'pitch']].copy()\n",
    "    group_pitches['duration'] = np.diff(group_pitches['time'], append=(pitch_df.iloc[-1, 0]+0.1))\n",
    "    group_pitches['end time'] = group_pitches['time'] + group_pitches['duration']\n",
    "    # dataframe of breath phrases \n",
    "    bps = group_pitches.loc[(group_pitches['pitch'] == unvoiced_frame_val) & (group_pitches['duration'] >= bp_thresh * time_step)].reset_index(drop=True)\n",
    "    # create a dataframe with both breath and singing phrases. Columns are - start time, end time, duration, type \n",
    "    phrases_df = {\n",
    "        'start time': [],\n",
    "        'end time': [],\n",
    "        'duration': [],\n",
    "        'type': []\n",
    "    }\n",
    "    for i, row in list(bps.iterrows())[:-1]:\n",
    "        # breath phrase\n",
    "        phrases_df['start time'].append(row['time'])\n",
    "        phrases_df['end time'].append(row['end time'])\n",
    "        phrases_df['duration'].append(row['duration'])\n",
    "        phrases_df['type'].append('BP')\n",
    "        # singing phrase\n",
    "        phrases_df['start time'].append(row['end time'])\n",
    "        phrases_df['end time'].append(bps.iloc[i+1, 0])\n",
    "        phrases_df['duration'].append(phrases_df['end time'][-1] - phrases_df['start time'][-1])\n",
    "        phrases_df['type'].append('SP')\n",
    "    phrases_df = pd.DataFrame(phrases_df)\n",
    "    return phrases_df\n",
    "\n",
    "def get_voiced_frame_len(pitch_df, start_time, end_time, unvoiced_frame_val=-3000):\n",
    "    '''\n",
    "    Returns the number of voiced frames in the pitch dataframe between start and end time\n",
    "\n",
    "    Parameters\n",
    "        pitch_df (pd.DataFrame): dataframe of tpe\n",
    "        start_time (float): time to start reading pitch values at\n",
    "        end_time (float): time to stop reading pitch values at\n",
    "\n",
    "    Returns\n",
    "        voiced_frames (int): number of voiced frames within start and stop time\n",
    "\n",
    "    '''\n",
    "    return pitch_df.loc[(pitch_df['time'] >= start_time) & (pitch_df['time'] <= end_time) & (pitch_df['pitch'] != unvoiced_frame_val)].shape[0]"
   ]
  },
  {
   "cell_type": "code",
   "execution_count": 38,
   "id": "701198b4-bd8d-4803-9984-addea29a0251",
   "metadata": {},
   "outputs": [],
   "source": [
    "sp_len = {'Filename': [], 'Singer': [], 'Raag': [], '# SP': [], 'Avg. SP Len': []}"
   ]
  },
  {
   "cell_type": "code",
   "execution_count": 39,
   "id": "a9db98b2-646a-4dbc-8df2-e2cdfef418df",
   "metadata": {},
   "outputs": [
    {
     "name": "stdout",
     "output_type": "stream",
     "text": [
      "AG_P4_Bahar-pitch.csv\n",
      "SCh_P6a_Kedar-pitch.csv\n",
      "SCh_P6b_Kedar-pitch.csv\n",
      "AG_P2_Jaun-pitch.csv\n",
      "AG_P9_Bilas-pitch.csv\n",
      "CC_P8_Bag-pitch.csv\n",
      "CC_P3_MM-pitch.csv\n",
      "SCh_P9a_Bahar-pitch.csv\n",
      "SCh_P2b_Jaun-pitch.csv\n",
      "SCh_P2a_Jaun-pitch.csv\n",
      "AG_P1_MM-pitch.csv\n",
      "CC_P7_Marwa-pitch.csv\n",
      "SCh_P3b_MM-pitch.csv\n",
      "CC_P1b_Bilas-pitch.csv\n",
      "CC_P9_Bahar-pitch.csv\n",
      "AG_P6_Nand-pitch.csv\n",
      "SCh_P4a_Nand-pitch.csv\n",
      "CC_P2_Jaun-pitch.csv\n",
      "SCh_P4b_Nand-pitch.csv\n",
      "SCh_P1a_Bilas-pitch.csv\n",
      "AG_P3_Kedar-pitch.csv\n",
      "CC_P4_Nand-pitch.csv\n",
      "SCh_P8b_Bag-pitch.csv\n",
      "SCh_P7b_Marwa-pitch.csv\n",
      "SCh_P5a_Shree-pitch.csv\n",
      "CC_P6_Kedar-pitch.csv\n",
      "AG_P7_Bag-pitch.csv\n",
      "AG_P8_Marwa-pitch.csv\n",
      "AG_P5_Shree-pitch.csv\n",
      "SCh_P1b_Bilas-pitch.csv\n",
      "CC_P1a_Bilas-pitch.csv\n",
      "SCh_P5b_Shree-pitch.csv\n",
      "CC_P5_Shree-pitch.csv\n",
      "SCh_P7a_Marwa-pitch.csv\n",
      "SCh_P8a_Bag-pitch.csv\n",
      "SCh_P9b_Bahar-pitch.csv\n",
      "SCh_P3a_MM-pitch.csv\n"
     ]
    }
   ],
   "source": [
    "for root, _, fileNames in os.walk(data_folder):\n",
    "    for fileName in fileNames:\n",
    "        if fileName.endswith('-pitch.csv'):\n",
    "            print(fileName)\n",
    "            pitch_df = pd.read_csv(os.path.join(root, fileName))\n",
    "            phrases_df = get_phrases(pitch_df)\n",
    "            # print(phrases_df.loc[phrases_df['type'] == 'SP'])\n",
    "            sp_vals = []\n",
    "            for i, row in phrases_df.iterrows():\n",
    "                if row['type'] == 'SP':\n",
    "                    if row['duration'] >= 2000*time_step:\n",
    "                        # only one singing phrase\n",
    "                        start_time = row['start time']\n",
    "                        end_time = 1999*time_step + row['start time']\n",
    "                    else:\n",
    "                        subset = phrases_df.loc[(phrases_df['start time'] >= row['start time']) & (phrases_df['end time'] < np.around((row['start time']+(2000*time_step))/time_step)*time_step)]\n",
    "                        start_time = row['start time']\n",
    "                        end_time = subset.iloc[-1, 1]\n",
    "                    phrase_voice_thresh_val = np.around(get_voiced_frame_len(pitch_df, start_time, end_time)/2000, 2)\n",
    "                    if phrase_voice_thresh_val >= phrase_voice_thresh:\n",
    "                        # print(row)\n",
    "                        sp_vals.append(row['end time'] - row['start time'])\n",
    "            sp_len['Filename'].append(os.path.join(root, fileName))\n",
    "            sp_len['Singer'].append(fileName.split('_', 1)[0])\n",
    "            sp_len['Raag'].append(fileName.rsplit('-', 1)[0].rsplit('_', 1)[1])\n",
    "            sp_len['# SP'].append(len(sp_vals))\n",
    "            sp_len['Avg. SP Len'].append(np.mean(sp_vals))"
   ]
  },
  {
   "cell_type": "code",
   "execution_count": 40,
   "id": "4e684e10-db1d-49f8-bfd1-234eb3959f2e",
   "metadata": {},
   "outputs": [],
   "source": [
    "sp_len = pd.DataFrame(sp_len)"
   ]
  },
  {
   "cell_type": "code",
   "execution_count": 41,
   "id": "52ee0e0d-556d-49f8-8a94-436a3f8b2371",
   "metadata": {},
   "outputs": [
    {
     "data": {
      "text/html": [
       "<div>\n",
       "<style scoped>\n",
       "    .dataframe tbody tr th:only-of-type {\n",
       "        vertical-align: middle;\n",
       "    }\n",
       "\n",
       "    .dataframe tbody tr th {\n",
       "        vertical-align: top;\n",
       "    }\n",
       "\n",
       "    .dataframe thead th {\n",
       "        text-align: right;\n",
       "    }\n",
       "</style>\n",
       "<table border=\"1\" class=\"dataframe\">\n",
       "  <thead>\n",
       "    <tr style=\"text-align: right;\">\n",
       "      <th></th>\n",
       "      <th># SP</th>\n",
       "      <th>Avg. SP Len</th>\n",
       "    </tr>\n",
       "    <tr>\n",
       "      <th>Singer</th>\n",
       "      <th></th>\n",
       "      <th></th>\n",
       "    </tr>\n",
       "  </thead>\n",
       "  <tbody>\n",
       "    <tr>\n",
       "      <td>AG</td>\n",
       "      <td>2.111111</td>\n",
       "      <td>4.323148</td>\n",
       "    </tr>\n",
       "    <tr>\n",
       "      <td>CC</td>\n",
       "      <td>10.000000</td>\n",
       "      <td>5.582192</td>\n",
       "    </tr>\n",
       "    <tr>\n",
       "      <td>SCh</td>\n",
       "      <td>1.833333</td>\n",
       "      <td>8.897083</td>\n",
       "    </tr>\n",
       "  </tbody>\n",
       "</table>\n",
       "</div>"
      ],
      "text/plain": [
       "             # SP  Avg. SP Len\n",
       "Singer                        \n",
       "AG       2.111111     4.323148\n",
       "CC      10.000000     5.582192\n",
       "SCh      1.833333     8.897083"
      ]
     },
     "execution_count": 41,
     "metadata": {},
     "output_type": "execute_result"
    }
   ],
   "source": [
    "sp_len.groupby('Singer').mean()"
   ]
  },
  {
   "cell_type": "code",
   "execution_count": null,
   "id": "ddba7bf0-d97f-4080-9278-df4ea9a2b8b6",
   "metadata": {},
   "outputs": [],
   "source": []
  }
 ],
 "metadata": {
  "kernelspec": {
   "display_name": "Python 3.7.9 64-bit ('deepsrgm': conda)",
   "language": "python",
   "name": "python379jvsc74a57bd05e280c40e46fea33a070042eb348413728299d4ca7caecb7cf353f6ca7f48a9f"
  },
  "language_info": {
   "codemirror_mode": {
    "name": "ipython",
    "version": 3
   },
   "file_extension": ".py",
   "mimetype": "text/x-python",
   "name": "python",
   "nbconvert_exporter": "python",
   "pygments_lexer": "ipython3",
   "version": "3.6.13"
  }
 },
 "nbformat": 4,
 "nbformat_minor": 5
}
