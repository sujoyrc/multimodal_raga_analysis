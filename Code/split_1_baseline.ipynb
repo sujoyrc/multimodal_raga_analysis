{
 "cells": [
  {
   "cell_type": "code",
   "execution_count": 1,
   "id": "2c6b19bf-4de9-48c7-9703-abd6a881c34e",
   "metadata": {},
   "outputs": [
    {
     "name": "stderr",
     "output_type": "stream",
     "text": [
      "Using TensorFlow backend.\n"
     ]
    }
   ],
   "source": [
    "import pandas as pd\n",
    "import numpy as np\n",
    "import matplotlib.pyplot as plt\n",
    "from keras.utils import to_categorical\n",
    "from keras.layers import Dense, Conv1D, Dropout, Input, Activation, AveragePooling1D, Flatten\n",
    "from keras.regularizers import l2\n",
    "from keras.constraints import MaxNorm\n",
    "from keras import Model\n",
    "from keras.optimizers import SGD\n",
    "from keras.callbacks import ModelCheckpoint\n",
    "from keras.models import load_model\n",
    "from sklearn.preprocessing import StandardScaler\n",
    "from sklearn.metrics import confusion_matrix\n",
    "import os\n",
    "from contextlib import redirect_stdout\n",
    "from collections import defaultdict\n",
    "import sys\n",
    "import seaborn as sns\n",
    "sys.path.append('../../CommonScripts/')\n",
    "from utils import checkPath, addBack"
   ]
  },
  {
   "cell_type": "code",
   "execution_count": 3,
   "id": "d56fc7b7-4b8b-418f-9416-08b6ca2a57d5",
   "metadata": {},
   "outputs": [],
   "source": [
    "model_folder='../Models/easy_split_1/AG-baseline-mod1/'\n",
    "if os.path.isdir(model_folder):\n",
    "    raise Exception('Change model name')\n",
    "else:\n",
    "    checkPath(model_folder)\n",
    "train_file='../Seqs_Jin-Standardized/easy-1/train_easy-AG.csv'\n",
    "test_file='../Seqs_Jin-Standardized/easy-1/test_easy-AG.csv'\n",
    "seq_len=1200\n",
    "no_classes=9\n",
    "no_epochs=50"
   ]
  },
  {
   "cell_type": "markdown",
   "id": "d22dd1d8-c058-4009-aa17-892cdc4691fa",
   "metadata": {},
   "source": [
    "### Load Data"
   ]
  },
  {
   "cell_type": "code",
   "execution_count": 4,
   "id": "f97950e2-ce74-495b-85fb-f045c4fca7a1",
   "metadata": {},
   "outputs": [],
   "source": [
    "train_data = pd.read_csv(train_file) \n",
    "X_train = train_data.iloc[:, :-1].values\n",
    "y_train = to_categorical(train_data.iloc[:, -1].values)"
   ]
  },
  {
   "cell_type": "code",
   "execution_count": 5,
   "id": "5548046f-9f36-4d5a-8649-6a7f25a086ad",
   "metadata": {},
   "outputs": [],
   "source": [
    "test_data = pd.read_csv(test_file)\n",
    "X_test = test_data.iloc[:, :-1].values\n",
    "y_test = to_categorical(test_data.iloc[:, -1].values)"
   ]
  },
  {
   "cell_type": "code",
   "execution_count": 6,
   "id": "c11da2fa-fe21-472b-a39c-8408cae0f6dd",
   "metadata": {},
   "outputs": [],
   "source": [
    "X_train = np.reshape(X_train, (-1, seq_len, 1))\n",
    "X_test = np.reshape(X_test, (-1, seq_len, 1))"
   ]
  },
  {
   "cell_type": "markdown",
   "id": "534f8082-a00d-42b5-9ad8-47897a8c5bc6",
   "metadata": {},
   "source": [
    "### Model Definition"
   ]
  },
  {
   "cell_type": "code",
   "execution_count": 8,
   "id": "ef679ce6-5936-44ed-9e2d-68a238ef2584",
   "metadata": {},
   "outputs": [],
   "source": [
    "def model_def():\n",
    "    inputs = Input(shape=(seq_len,1))\n",
    "    conv1 = Conv1D(filters=48, kernel_size=5, activation='sigmoid', strides=1, kernel_regularizer=l2(l=0.00025), bias_regularizer=l2(l=0.00025))(inputs)\n",
    "    avg_pool1 = AveragePooling1D(pool_size=2, stride=2)(conv1)\n",
    "    conv2 = Conv1D(filters=24, kernel_size=5, activation='sigmoid', strides=1, kernel_regularizer=l2(l=0.00025), bias_regularizer=l2(l=0.00025))(avg_pool1)\n",
    "    avg_pool2 = AveragePooling1D(pool_size=2, stride=2)(conv2)\n",
    "    flatten = Flatten()(avg_pool2)\n",
    "    dense1 = Dense(4096, activation='sigmoid', kernel_regularizer=l2(l=0.00025), bias_regularizer=l2(l=0.00025))(flatten)\n",
    "    dense2 = Dense(512, activation='sigmoid', kernel_regularizer=l2(l=0.00025), bias_regularizer=l2(l=0.00025))(dense1)\n",
    "    outputs = Dense(no_classes, activation='softmax', kernel_regularizer=l2(l=0.00025), bias_regularizer=l2(l=0.00025))(dense2)\n",
    "    model = Model(inputs=inputs, outputs=outputs)\n",
    "    return model"
   ]
  },
  {
   "cell_type": "markdown",
   "id": "924b1cd5-7cee-47fa-bab6-d1ba9118cb64",
   "metadata": {},
   "source": [
    "### Train Model"
   ]
  },
  {
   "cell_type": "code",
   "execution_count": null,
   "id": "41313e45-cff3-48c4-b862-c182a3b048b8",
   "metadata": {},
   "outputs": [
    {
     "name": "stdout",
     "output_type": "stream",
     "text": [
      "WARNING:tensorflow:From /home/nithya/miniconda3/envs/deepsrgm/lib/python3.6/site-packages/tensorflow_core/python/ops/resource_variable_ops.py:1630: calling BaseResourceVariable.__init__ (from tensorflow.python.ops.resource_variable_ops) with constraint is deprecated and will be removed in a future version.\n",
      "Instructions for updating:\n",
      "If using Keras pass *_constraint arguments to layers.\n",
      "WARNING:tensorflow:From /home/nithya/miniconda3/envs/deepsrgm/lib/python3.6/site-packages/keras/backend/tensorflow_backend.py:4074: The name tf.nn.avg_pool is deprecated. Please use tf.nn.avg_pool2d instead.\n",
      "\n",
      "Model: \"model_1\"\n",
      "_________________________________________________________________\n",
      "Layer (type)                 Output Shape              Param #   \n",
      "=================================================================\n",
      "input_1 (InputLayer)         (None, 1200, 1)           0         \n",
      "_________________________________________________________________\n",
      "conv1d_1 (Conv1D)            (None, 1196, 48)          288       \n",
      "_________________________________________________________________\n",
      "average_pooling1d_1 (Average (None, 598, 48)           0         \n",
      "_________________________________________________________________\n",
      "conv1d_2 (Conv1D)            (None, 594, 24)           5784      \n",
      "_________________________________________________________________\n",
      "average_pooling1d_2 (Average (None, 297, 24)           0         \n",
      "_________________________________________________________________\n",
      "flatten_1 (Flatten)          (None, 7128)              0         \n",
      "_________________________________________________________________\n",
      "dense_1 (Dense)              (None, 4096)              29200384  \n",
      "_________________________________________________________________\n",
      "dense_2 (Dense)              (None, 512)               2097664   \n",
      "_________________________________________________________________\n",
      "dense_3 (Dense)              (None, 9)                 4617      \n",
      "=================================================================\n",
      "Total params: 31,308,737\n",
      "Trainable params: 31,308,737\n",
      "Non-trainable params: 0\n",
      "_________________________________________________________________\n",
      "None\n"
     ]
    },
    {
     "name": "stderr",
     "output_type": "stream",
     "text": [
      "/home/nithya/miniconda3/envs/deepsrgm/lib/python3.6/site-packages/ipykernel_launcher.py:4: UserWarning: Update your `AveragePooling1D` call to the Keras 2 API: `AveragePooling1D(pool_size=2, strides=2)`\n",
      "  after removing the cwd from sys.path.\n",
      "/home/nithya/miniconda3/envs/deepsrgm/lib/python3.6/site-packages/ipykernel_launcher.py:6: UserWarning: Update your `AveragePooling1D` call to the Keras 2 API: `AveragePooling1D(pool_size=2, strides=2)`\n",
      "  \n"
     ]
    },
    {
     "name": "stdout",
     "output_type": "stream",
     "text": [
      "WARNING:tensorflow:From /home/nithya/miniconda3/envs/deepsrgm/lib/python3.6/site-packages/keras/backend/tensorflow_backend.py:422: The name tf.global_variables is deprecated. Please use tf.compat.v1.global_variables instead.\n",
      "\n",
      "Train on 5590 samples, validate on 972 samples\n",
      "Epoch 1/50\n",
      "3423/5590 [=================>............] - ETA: 6:13 - loss: 3.5467 - accuracy: 0.1177"
     ]
    }
   ],
   "source": [
    "model = model_def()\n",
    "print(model.summary())\n",
    "with open(os.path.join(model_folder + 'structure.txt'), 'w') as f:\n",
    "    with redirect_stdout(f):\n",
    "        print(model.summary())\n",
    "model.compile(loss='categorical_crossentropy', optimizer=SGD(learning_rate=0.01, momentum=0.9), metrics=['accuracy'])\n",
    "model_checkpoint_callback = ModelCheckpoint(\n",
    "    filepath=os.path.join(model_folder, 'model.hdf5'),\n",
    "    monitor='val_loss',\n",
    "    mode='min',\n",
    "    save_best_only=True)\n",
    "history = model.fit(X_train, y_train, batch_size=1, epochs=no_epochs, callbacks=[model_checkpoint_callback], validation_data=(X_test, y_test))"
   ]
  },
  {
   "cell_type": "markdown",
   "id": "a6794b5c-b2cd-4ee6-b56f-765cdacf37af",
   "metadata": {},
   "source": [
    "### Plot Metrics"
   ]
  },
  {
   "cell_type": "code",
   "execution_count": null,
   "id": "b689ec39-3355-42b4-b6f4-4dcd1e173191",
   "metadata": {},
   "outputs": [],
   "source": [
    "def plot_metrics(history):\n",
    "    fig, axs = plt.subplots(1, 2)\n",
    "    \n",
    "    # plot the loss curve\n",
    "    axs[0].plot(np.arange(no_epochs), history.history['loss'], label='Train')\n",
    "    axs[0].plot(np.arange(no_epochs), history.history['val_loss'], label='Val')\n",
    "    axs[0].set(title='Loss Curve', xlabel='Epoch Number', ylabel='Loss', ylim=(0, 10))\n",
    "    axs[0].legend()\n",
    "    # plot the accuracy curve\n",
    "    axs[1].plot(np.arange(no_epochs), history.history['accuracy'], label='Train')\n",
    "    axs[1].plot(np.arange(no_epochs), history.history['val_accuracy'], label='Val')\n",
    "    axs[1].set(title='Accuracy Curve', xlabel='Epoch Number', ylabel='Accuracy', ylim=(0, 1))\n",
    "    axs[1].legend()\n",
    "    \n",
    "    fig.savefig(os.path.join(model_folder, 'train.png'))\n",
    "    \n",
    "    # save accuracy/loss in a file\n",
    "    # calculate metrics\n",
    "    with open(os.path.join(model_folder, 'summary.txt'), 'w') as f:\n",
    "        f.write('train_loss\\ttrain_accuracy\\tval_loss\\tval_accuracy\\tepoch #\\n')\n",
    "        metrics = defaultdict(int)\n",
    "        min_val_ind = np.argmin(history.history['val_loss'])\n",
    "        metrics['train_loss'] = history.history['loss'][min_val_ind]\n",
    "        metrics['train_accuracy'] = history.history['accuracy'][min_val_ind]\n",
    "        metrics['val_loss'] = history.history['val_loss'][min_val_ind]\n",
    "        metrics['val_accuracy'] = history.history['val_accuracy'][min_val_ind]\n",
    "        f.write(f\"{metrics['train_loss']}\\t{metrics['train_accuracy']}\\t{metrics['val_loss']}\\t{metrics['val_accuracy']}\\t{min_val_ind}/{no_epochs}\\n\")"
   ]
  },
  {
   "cell_type": "code",
   "execution_count": null,
   "id": "006ec383-29d5-4449-b3b3-9d20f0b93f35",
   "metadata": {
    "tags": []
   },
   "outputs": [],
   "source": [
    "plot_metrics(history)"
   ]
  },
  {
   "cell_type": "markdown",
   "id": "498fcf76-8bac-423d-ac67-c97e8d077f59",
   "metadata": {},
   "source": [
    "### Evaluate Model"
   ]
  },
  {
   "cell_type": "code",
   "execution_count": null,
   "id": "af784cad-19fd-4e60-95e0-091edbda886f",
   "metadata": {},
   "outputs": [],
   "source": [
    "raga_labels = ['Bag', 'Bahar', 'Bilas', 'Jaun', 'Kedar', 'MM', 'Marwa', 'Nand', 'Shree']"
   ]
  },
  {
   "cell_type": "code",
   "execution_count": null,
   "id": "9e32bb16-b5ee-4706-b175-7a68885cdac9",
   "metadata": {},
   "outputs": [],
   "source": [
    "model = load_model(os.path.join(model_folder, 'model.hdf5'))\n",
    "loss, acc = model.evaluate(X_test, y_test)\n",
    "print(loss, acc)"
   ]
  },
  {
   "cell_type": "code",
   "execution_count": null,
   "id": "07d8810e-37dc-4f95-bc43-cf87a97d6a15",
   "metadata": {},
   "outputs": [],
   "source": [
    "predictions = model.predict(X_test)\n",
    "predict_class = np.argmax(predictions, axis=1)"
   ]
  },
  {
   "cell_type": "code",
   "execution_count": null,
   "id": "20c09511-07c7-406a-97dd-85ae2899f2b9",
   "metadata": {},
   "outputs": [],
   "source": [
    "sns.heatmap(confusion_matrix(np.argmax(y_test, axis=1), predict_class), xticklabels=raga_labels, yticklabels=raga_labels, annot=True)\n",
    "plt.xlabel('Predicted Label')\n",
    "plt.ylabel('True Label')\n",
    "plt.savefig(os.path.join(model_folder, 'test_cm.png'))"
   ]
  },
  {
   "cell_type": "code",
   "execution_count": null,
   "id": "0a8ced00-506c-4765-9f7c-97a8fa261dce",
   "metadata": {},
   "outputs": [],
   "source": [
    "fig, ax = plt.subplots(1, 1, figsize=(10, 10))\n",
    "sns.heatmap(confusion_matrix(np.argmax(y_train, axis=1), np.argmax(model.predict(X_train), axis=1)), xticklabels=raga_labels, yticklabels=raga_labels, annot=True, fmt=\"d\", ax=ax)\n",
    "plt.xlabel('Predicted Label')\n",
    "plt.ylabel('True Label')\n",
    "plt.savefig(os.path.join(model_folder, 'train_cm.png'))"
   ]
  },
  {
   "cell_type": "code",
   "execution_count": null,
   "id": "3ea9e1b4-9543-4e90-8ac8-650c1d5f08fa",
   "metadata": {},
   "outputs": [],
   "source": []
  },
  {
   "cell_type": "code",
   "execution_count": null,
   "id": "bb3e7e84-656c-4da3-a02b-3de91f34eaf3",
   "metadata": {},
   "outputs": [],
   "source": []
  },
  {
   "cell_type": "code",
   "execution_count": null,
   "id": "dfc83993-a012-49ac-884f-56984e470536",
   "metadata": {},
   "outputs": [],
   "source": []
  }
 ],
 "metadata": {
  "kernelspec": {
   "display_name": "Python 3",
   "language": "python",
   "name": "python3"
  },
  "language_info": {
   "codemirror_mode": {
    "name": "ipython",
    "version": 3
   },
   "file_extension": ".py",
   "mimetype": "text/x-python",
   "name": "python",
   "nbconvert_exporter": "python",
   "pygments_lexer": "ipython3",
   "version": "3.8.12"
  }
 },
 "nbformat": 4,
 "nbformat_minor": 5
}
