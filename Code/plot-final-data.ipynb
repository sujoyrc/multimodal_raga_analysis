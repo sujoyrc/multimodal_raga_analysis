{
 "cells": [
  {
   "cell_type": "code",
   "execution_count": 49,
   "id": "6dccd966-08c4-4cbd-adf5-be0f3145247e",
   "metadata": {},
   "outputs": [],
   "source": [
    "import numpy as np\n",
    "import pandas as pd\n",
    "import os\n",
    "import matplotlib.pyplot as plt\n",
    "from matplotlib import rcParams\n",
    "plt.style.use('ggplot')"
   ]
  },
  {
   "cell_type": "code",
   "execution_count": 50,
   "id": "e27ec053-47f9-48ae-a0b8-31d7f178710e",
   "metadata": {},
   "outputs": [],
   "source": [
    "# rcParams.keys()"
   ]
  },
  {
   "cell_type": "code",
   "execution_count": 51,
   "id": "acb31327-5ec8-46a1-bf7b-dd49c13bb6d0",
   "metadata": {},
   "outputs": [],
   "source": [
    "rcParams['xtick.labelsize'] = 16\n",
    "rcParams['ytick.labelsize'] = 16\n",
    "rcParams['axes.labelsize'] = 20\n",
    "rcParams['axes.titlesize'] = 24\n",
    "rcParams['legend.fontsize'] = 16"
   ]
  },
  {
   "cell_type": "code",
   "execution_count": 52,
   "id": "4e3ba51c-5936-4753-9e72-c93e89d021a2",
   "metadata": {},
   "outputs": [],
   "source": [
    "id_val = 'CC_3b_MM_42'"
   ]
  },
  {
   "cell_type": "code",
   "execution_count": 53,
   "id": "42b857db-b3eb-4397-989f-6c292c610376",
   "metadata": {},
   "outputs": [],
   "source": [
    "pitch_path = '../Seqs/csvs/pitch-pitch.csv'\n",
    "mask_path = '../Seqs/csvs/mask.csv'\n",
    "LWrist_x_path = '../Final Video Data/Sequences/LWrist-x.csv'\n",
    "LWrist_y_path = '../Final Video Data/Sequences/LWrist-y.csv'\n",
    "RWrist_x_path = '../Final Video Data/Sequences/RWrist-x.csv'\n",
    "RWrist_y_path = '../Final Video Data/Sequences/RWrist-y.csv'"
   ]
  },
  {
   "cell_type": "code",
   "execution_count": 54,
   "id": "de0dde10-333d-425a-88cd-cb76a16be27d",
   "metadata": {},
   "outputs": [],
   "source": [
    "pitch = pd.read_csv(pitch_path)\n",
    "pitch.iloc[:, :1200] = (pitch.iloc[:, :1200] + 550)/(1900+550)\n",
    "mask = pd.read_csv(mask_path)\n",
    "LWrist_x = pd.read_csv(LWrist_x_path)\n",
    "LWrist_y = pd.read_csv(LWrist_y_path)\n",
    "RWrist_x = pd.read_csv(RWrist_x_path)\n",
    "RWrist_y = pd.read_csv(RWrist_y_path)"
   ]
  },
  {
   "cell_type": "code",
   "execution_count": 55,
   "id": "314b3a56-fd80-4ed8-8d56-01c0cda71cab",
   "metadata": {},
   "outputs": [],
   "source": [
    "pitch_ex = pitch.loc[pitch['unique_id'] == id_val]\n",
    "mask_ex = mask.loc[mask['unique_id'] == id_val]\n",
    "LWrist_x_ex = LWrist_x.loc[LWrist_x['unique_id'] == id_val]\n",
    "LWrist_y_ex = LWrist_y.loc[LWrist_y['unique_id'] == id_val]\n",
    "RWrist_x_ex = RWrist_x.loc[RWrist_x['unique_id'] == id_val]\n",
    "RWrist_y_ex = RWrist_y.loc[RWrist_y['unique_id'] == id_val]"
   ]
  },
  {
   "cell_type": "markdown",
   "id": "c089f120-de19-466a-b37a-5cf317bb4602",
   "metadata": {},
   "source": [
    "### Voicing plot"
   ]
  },
  {
   "cell_type": "code",
   "execution_count": 56,
   "id": "80cf4f10-880e-4281-9c2d-1146f80f10f1",
   "metadata": {},
   "outputs": [],
   "source": [
    "plt.figure(figsize=(14, 10))\n",
    "plt.plot(np.arange(1200), mask_ex.values[0][:1200], label='voicing')\n",
    "plt.xlabel('Number of Frames')\n",
    "plt.ylabel('Normalized values')\n",
    "# plt.legend()\n",
    "plt.title(f'{id_val} - voicing')\n",
    "plt.tight_layout()\n",
    "plt.savefig(os.path.join('../paper/voicing.png'))\n",
    "plt.close()"
   ]
  },
  {
   "cell_type": "markdown",
   "id": "da6b8797-0a23-4d5e-aeb3-5105f8a0c280",
   "metadata": {},
   "source": [
    "### Pitch plot"
   ]
  },
  {
   "cell_type": "code",
   "execution_count": 57,
   "id": "034b061b-4350-4bb5-8e23-5dc002974867",
   "metadata": {},
   "outputs": [],
   "source": [
    "orig_pitches = {\n",
    "    -500: 'P_',\n",
    "    # -300: 'D_',\n",
    "    # -200: 'n_',\n",
    "    # -100: 'N_',\n",
    "    0: 'S',\n",
    "    200: 'R',\n",
    "    300: 'g',\n",
    "    500: 'm',\n",
    "    700: 'P',\n",
    "    900: 'D',\n",
    "    1000: 'n',\n",
    "    1100: 'N',\n",
    "    1200: \"S'\",\n",
    "    # 1400: \"R'\",\n",
    "    # 1500: \"g'\",\n",
    "    # 1700: \"m'\",\n",
    "    1900: \"P'\"\n",
    "}"
   ]
  },
  {
   "cell_type": "code",
   "execution_count": 58,
   "id": "d013ced7-000b-417d-ab36-b90b7cff900f",
   "metadata": {},
   "outputs": [
    {
     "data": {
      "text/plain": [
       "{0.02: 'P_',\n",
       " 0.22: 'S',\n",
       " 0.31: 'R',\n",
       " 0.35: 'g',\n",
       " 0.43: 'm',\n",
       " 0.51: 'P',\n",
       " 0.59: 'D',\n",
       " 0.63: 'n',\n",
       " 0.67: 'N',\n",
       " 0.71: \"S'\",\n",
       " 1.0: \"P'\"}"
      ]
     },
     "execution_count": 58,
     "metadata": {},
     "output_type": "execute_result"
    }
   ],
   "source": [
    "new_pitches = {np.around((k - (-550))/(1900 - (-550)), 2) : v for k, v in orig_pitches.items()}\n",
    "new_pitches"
   ]
  },
  {
   "cell_type": "code",
   "execution_count": 59,
   "id": "af3703e6-9baf-4575-933a-2e03d7af2219",
   "metadata": {},
   "outputs": [],
   "source": [
    "plt.figure(figsize=(14, 10))\n",
    "plt.plot(np.arange(1200), pitch_ex.values[0][:1200], label='pitch')\n",
    "plt.xlabel('Number of Frames')\n",
    "plt.ylabel('Notes')\n",
    "plt.yticks(list(new_pitches.keys()), list(new_pitches.values()))\n",
    "# plt.legend()\n",
    "plt.title(f'{id_val} - pitch')\n",
    "plt.tight_layout()\n",
    "plt.savefig(os.path.join('../paper/pitch.png'))\n",
    "plt.close()"
   ]
  },
  {
   "cell_type": "markdown",
   "id": "11b9db42-39f6-44c1-bfaf-5dab17c3d662",
   "metadata": {},
   "source": [
    "### Video data"
   ]
  },
  {
   "cell_type": "code",
   "execution_count": 60,
   "id": "a273b2cf-6964-443f-9440-213ec64111b3",
   "metadata": {},
   "outputs": [],
   "source": [
    "plt.figure(figsize=(14, 10))\n",
    "plt.plot(np.arange(300), LWrist_x_ex.values[0][:300], label='LWrist-x')\n",
    "plt.plot(np.arange(300), LWrist_y_ex.values[0][:300], label='LWrist-y')\n",
    "plt.plot(np.arange(300), RWrist_x_ex.values[0][:300], label='RWrist-x')\n",
    "plt.plot(np.arange(300), RWrist_y_ex.values[0][:300], label='RWrist-y')\n",
    "plt.xlabel('Number of Frames')\n",
    "plt.ylabel('Normalized values')\n",
    "plt.legend()\n",
    "plt.title(f'{id_val} - video data')\n",
    "plt.tight_layout()\n",
    "plt.savefig(os.path.join('../paper/video.png'))\n",
    "plt.close()"
   ]
  },
  {
   "cell_type": "code",
   "execution_count": null,
   "id": "0854750d-0d95-4d78-bf06-a101a985b2a4",
   "metadata": {},
   "outputs": [],
   "source": []
  }
 ],
 "metadata": {
  "kernelspec": {
   "display_name": "Python [conda env:gesture_anal] *",
   "language": "python",
   "name": "conda-env-gesture_anal-py"
  },
  "language_info": {
   "codemirror_mode": {
    "name": "ipython",
    "version": 3
   },
   "file_extension": ".py",
   "mimetype": "text/x-python",
   "name": "python",
   "nbconvert_exporter": "python",
   "pygments_lexer": "ipython3",
   "version": "3.8.12"
  }
 },
 "nbformat": 4,
 "nbformat_minor": 5
}
