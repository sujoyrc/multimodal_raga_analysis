{
 "cells": [
  {
   "cell_type": "code",
   "execution_count": 6,
   "id": "7a172a74-56ac-438c-8580-4405e572d03e",
   "metadata": {},
   "outputs": [],
   "source": [
    "import numpy as np\n",
    "import pandas as pd\n",
    "import os\n",
    "import matplotlib.pyplot as plt"
   ]
  },
  {
   "cell_type": "code",
   "execution_count": 7,
   "id": "31edfce4-af6a-41e4-84d2-ef88b1eca7b0",
   "metadata": {},
   "outputs": [],
   "source": [
    "# LWrist_x_path = '../Final Video Data/Sequences/LWrist-x.csv'\n",
    "# LWrist_y_path = '../Final Video Data/Sequences/LWrist-y.csv'\n",
    "# RWrist_x_path = '../Final Video Data/Sequences/RWrist-x.csv'\n",
    "# RWrist_y_path = '../Final Video Data/Sequences/RWrist-y.csv'\n",
    "# pitch_path = '../Final Both Data/csvs/pitch.csv'\n",
    "# mask_path = '../Final Both Data/csvs/mask.csv'\n",
    "pitch_id = '../Seqs/csvs/pitch-pitch.csv'\n",
    "mask_path = '../Seqs/csvs/mask.csv'"
   ]
  },
  {
   "cell_type": "code",
   "execution_count": 8,
   "id": "581ee2bc-c00d-48cd-97b6-5a610e298d9e",
   "metadata": {},
   "outputs": [],
   "source": [
    "# LWrist_x = pd.read_csv(LWrist_x_path)\n",
    "# LWrist_y = pd.read_csv(LWrist_y_path)\n",
    "# RWrist_x = pd.read_csv(RWrist_x_path)\n",
    "# RWrist_y = pd.read_csv(RWrist_y_path)\n",
    "pitch = pd.read_csv(pitch_id)\n",
    "pitch_id = pd.read_csv(pitch_id)\n",
    "pitch.iloc[:, :1200] = (pitch.iloc[:, :1200] + 550)/(1900+550)\n",
    "mask = pd.read_csv(mask_path)"
   ]
  },
  {
   "cell_type": "code",
   "execution_count": 9,
   "id": "e2454983-873f-46e8-8ff9-7e0780b16b17",
   "metadata": {},
   "outputs": [],
   "source": [
    "save_pix_folder = '../Final Both Data/PixOGAudio/'\n",
    "if not os.path.exists(save_pix_folder):\n",
    "    os.makedirs(save_pix_folder)"
   ]
  },
  {
   "cell_type": "code",
   "execution_count": 10,
   "id": "50ec0fc5-2949-4507-afb8-6d106f4dadcd",
   "metadata": {},
   "outputs": [],
   "source": [
    "for i, row in pitch_id.iterrows():\n",
    "    if i%8 == 0:\n",
    "        # plt.plot(np.arange(1200), LWrist_x.loc[LWrist_x['unique_id'] == row['unique_id']].values[0][:1200], label='LWrist-x')\n",
    "        # plt.plot(np.arange(1200), LWrist_y.loc[LWrist_y['unique_id'] == row['unique_id']].values[0][:1200], label='LWrist-y')\n",
    "        # plt.plot(np.arange(1200), RWrist_x.loc[RWrist_x['unique_id'] == row['unique_id']].values[0][:1200], label='RWrist-x')\n",
    "        # plt.plot(np.arange(1200), RWrist_y.loc[RWrist_y['unique_id'] == row['unique_id']].values[0][:1200], label='RWrist-y')\n",
    "        plt.plot(np.arange(1200), pitch.loc[pitch['unique_id'] == row['unique_id']].values[0][:1200], label='pitch')\n",
    "        plt.plot(np.arange(1200), mask.loc[mask['unique_id'] == row['unique_id']].values[0][:1200], label='voicing')\n",
    "        plt.xlabel('Number of Frames')\n",
    "        plt.ylabel('Normalized values')\n",
    "        plt.legend()\n",
    "        plt.title(row['unique_id'])\n",
    "        plt.tight_layout()\n",
    "        plt.savefig(os.path.join(save_pix_folder, row['unique_id'] + '.png'))\n",
    "        plt.close()"
   ]
  },
  {
   "cell_type": "code",
   "execution_count": null,
   "id": "74c91172-d7e9-45de-8cf4-d15522a3e15f",
   "metadata": {},
   "outputs": [],
   "source": []
  }
 ],
 "metadata": {
  "kernelspec": {
   "display_name": "Python [conda env:gesture_anal] *",
   "language": "python",
   "name": "conda-env-gesture_anal-py"
  },
  "language_info": {
   "codemirror_mode": {
    "name": "ipython",
    "version": 3
   },
   "file_extension": ".py",
   "mimetype": "text/x-python",
   "name": "python",
   "nbconvert_exporter": "python",
   "pygments_lexer": "ipython3",
   "version": "3.8.12"
  }
 },
 "nbformat": 4,
 "nbformat_minor": 5
}
