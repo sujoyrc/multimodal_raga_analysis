{
 "cells": [
  {
   "cell_type": "code",
   "execution_count": 29,
   "id": "09f45993-539b-4b86-a27f-4585ced5ae9b",
   "metadata": {},
   "outputs": [],
   "source": [
    "import numpy as np\n",
    "import pandas as pd\n",
    "\n",
    "import matplotlib.pyplot as plt"
   ]
  },
  {
   "cell_type": "code",
   "execution_count": 42,
   "id": "be97c4eb-5568-44b4-b3ee-9345e9a568af",
   "metadata": {},
   "outputs": [],
   "source": [
    "dataFile = '../Seqs/finalData/pitch/hard_2/SCh-norm.npz'\n",
    "ragaFile = '../Seqs/raga_mapping.csv'\n",
    "ragas = pd.read_csv(ragaFile)"
   ]
  },
  {
   "cell_type": "code",
   "execution_count": 43,
   "id": "d965b15d-91c9-4d50-a920-9a4c46c3f8f3",
   "metadata": {},
   "outputs": [],
   "source": [
    "data = np.load(dataFile)"
   ]
  },
  {
   "cell_type": "code",
   "execution_count": 44,
   "id": "d4ddab05-7f98-4394-b79b-177454c241ee",
   "metadata": {},
   "outputs": [
    {
     "name": "stdout",
     "output_type": "stream",
     "text": [
      "Train Stats\n"
     ]
    },
    {
     "data": {
      "text/html": [
       "<div>\n",
       "<style scoped>\n",
       "    .dataframe tbody tr th:only-of-type {\n",
       "        vertical-align: middle;\n",
       "    }\n",
       "\n",
       "    .dataframe tbody tr th {\n",
       "        vertical-align: top;\n",
       "    }\n",
       "\n",
       "    .dataframe thead th {\n",
       "        text-align: right;\n",
       "    }\n",
       "</style>\n",
       "<table border=\"1\" class=\"dataframe\">\n",
       "  <thead>\n",
       "    <tr style=\"text-align: right;\">\n",
       "      <th></th>\n",
       "      <th>index</th>\n",
       "      <th>raga</th>\n",
       "      <th>Number of sequences</th>\n",
       "    </tr>\n",
       "  </thead>\n",
       "  <tbody>\n",
       "    <tr>\n",
       "      <th>0</th>\n",
       "      <td>0</td>\n",
       "      <td>Bag</td>\n",
       "      <td>497</td>\n",
       "    </tr>\n",
       "    <tr>\n",
       "      <th>1</th>\n",
       "      <td>1</td>\n",
       "      <td>Bahar</td>\n",
       "      <td>472</td>\n",
       "    </tr>\n",
       "    <tr>\n",
       "      <th>2</th>\n",
       "      <td>2</td>\n",
       "      <td>Bilas</td>\n",
       "      <td>477</td>\n",
       "    </tr>\n",
       "    <tr>\n",
       "      <th>3</th>\n",
       "      <td>3</td>\n",
       "      <td>Jaun</td>\n",
       "      <td>481</td>\n",
       "    </tr>\n",
       "    <tr>\n",
       "      <th>4</th>\n",
       "      <td>4</td>\n",
       "      <td>Kedar</td>\n",
       "      <td>370</td>\n",
       "    </tr>\n",
       "    <tr>\n",
       "      <th>5</th>\n",
       "      <td>5</td>\n",
       "      <td>MM</td>\n",
       "      <td>512</td>\n",
       "    </tr>\n",
       "    <tr>\n",
       "      <th>6</th>\n",
       "      <td>6</td>\n",
       "      <td>Marwa</td>\n",
       "      <td>490</td>\n",
       "    </tr>\n",
       "    <tr>\n",
       "      <th>7</th>\n",
       "      <td>7</td>\n",
       "      <td>Nand</td>\n",
       "      <td>488</td>\n",
       "    </tr>\n",
       "    <tr>\n",
       "      <th>8</th>\n",
       "      <td>8</td>\n",
       "      <td>Shree</td>\n",
       "      <td>517</td>\n",
       "    </tr>\n",
       "  </tbody>\n",
       "</table>\n",
       "</div>"
      ],
      "text/plain": [
       "   index   raga  Number of sequences\n",
       "0      0    Bag                  497\n",
       "1      1  Bahar                  472\n",
       "2      2  Bilas                  477\n",
       "3      3   Jaun                  481\n",
       "4      4  Kedar                  370\n",
       "5      5     MM                  512\n",
       "6      6  Marwa                  490\n",
       "7      7   Nand                  488\n",
       "8      8  Shree                  517"
      ]
     },
     "execution_count": 44,
     "metadata": {},
     "output_type": "execute_result"
    }
   ],
   "source": [
    "print('Train Stats')\n",
    "train_hist = np.histogram(data['y_train'], bins=np.arange(10), density=False)\n",
    "train_df = pd.DataFrame({'index': ragas['index'].values, \n",
    "                         'raga': ragas['raga'].values,\n",
    "                         'Number of sequences': train_hist[0]\n",
    "                        })\n",
    "train_df"
   ]
  },
  {
   "cell_type": "code",
   "execution_count": 45,
   "id": "12a86113-8c24-4902-9abd-1c7ccc4475a5",
   "metadata": {},
   "outputs": [
    {
     "data": {
      "text/plain": [
       "4304"
      ]
     },
     "execution_count": 45,
     "metadata": {},
     "output_type": "execute_result"
    }
   ],
   "source": [
    "train_df['Number of sequences'].sum()"
   ]
  },
  {
   "cell_type": "code",
   "execution_count": 46,
   "id": "eede103f-8979-429d-b800-55ed60624531",
   "metadata": {},
   "outputs": [
    {
     "name": "stdout",
     "output_type": "stream",
     "text": [
      "Test Stats\n"
     ]
    },
    {
     "data": {
      "text/html": [
       "<div>\n",
       "<style scoped>\n",
       "    .dataframe tbody tr th:only-of-type {\n",
       "        vertical-align: middle;\n",
       "    }\n",
       "\n",
       "    .dataframe tbody tr th {\n",
       "        vertical-align: top;\n",
       "    }\n",
       "\n",
       "    .dataframe thead th {\n",
       "        text-align: right;\n",
       "    }\n",
       "</style>\n",
       "<table border=\"1\" class=\"dataframe\">\n",
       "  <thead>\n",
       "    <tr style=\"text-align: right;\">\n",
       "      <th></th>\n",
       "      <th>index</th>\n",
       "      <th>raga</th>\n",
       "      <th>Number of sequences</th>\n",
       "    </tr>\n",
       "  </thead>\n",
       "  <tbody>\n",
       "    <tr>\n",
       "      <th>0</th>\n",
       "      <td>0</td>\n",
       "      <td>Bag</td>\n",
       "      <td>223</td>\n",
       "    </tr>\n",
       "    <tr>\n",
       "      <th>1</th>\n",
       "      <td>1</td>\n",
       "      <td>Bahar</td>\n",
       "      <td>206</td>\n",
       "    </tr>\n",
       "    <tr>\n",
       "      <th>2</th>\n",
       "      <td>2</td>\n",
       "      <td>Bilas</td>\n",
       "      <td>225</td>\n",
       "    </tr>\n",
       "    <tr>\n",
       "      <th>3</th>\n",
       "      <td>3</td>\n",
       "      <td>Jaun</td>\n",
       "      <td>217</td>\n",
       "    </tr>\n",
       "    <tr>\n",
       "      <th>4</th>\n",
       "      <td>4</td>\n",
       "      <td>Kedar</td>\n",
       "      <td>339</td>\n",
       "    </tr>\n",
       "    <tr>\n",
       "      <th>5</th>\n",
       "      <td>5</td>\n",
       "      <td>MM</td>\n",
       "      <td>333</td>\n",
       "    </tr>\n",
       "    <tr>\n",
       "      <th>6</th>\n",
       "      <td>6</td>\n",
       "      <td>Marwa</td>\n",
       "      <td>250</td>\n",
       "    </tr>\n",
       "    <tr>\n",
       "      <th>7</th>\n",
       "      <td>7</td>\n",
       "      <td>Nand</td>\n",
       "      <td>222</td>\n",
       "    </tr>\n",
       "    <tr>\n",
       "      <th>8</th>\n",
       "      <td>8</td>\n",
       "      <td>Shree</td>\n",
       "      <td>243</td>\n",
       "    </tr>\n",
       "  </tbody>\n",
       "</table>\n",
       "</div>"
      ],
      "text/plain": [
       "   index   raga  Number of sequences\n",
       "0      0    Bag                  223\n",
       "1      1  Bahar                  206\n",
       "2      2  Bilas                  225\n",
       "3      3   Jaun                  217\n",
       "4      4  Kedar                  339\n",
       "5      5     MM                  333\n",
       "6      6  Marwa                  250\n",
       "7      7   Nand                  222\n",
       "8      8  Shree                  243"
      ]
     },
     "execution_count": 46,
     "metadata": {},
     "output_type": "execute_result"
    }
   ],
   "source": [
    "print('Test Stats')\n",
    "test_hist = np.histogram(data['y_test'], bins=np.arange(10), density=False)\n",
    "test_df = pd.DataFrame({'index': ragas['index'].values, \n",
    "                         'raga': ragas['raga'].values,\n",
    "                         'Number of sequences': test_hist[0]\n",
    "                        })\n",
    "test_df"
   ]
  },
  {
   "cell_type": "code",
   "execution_count": 47,
   "id": "caf02178-97a9-4ffb-a478-808201c2e381",
   "metadata": {},
   "outputs": [
    {
     "data": {
      "text/plain": [
       "2258"
      ]
     },
     "execution_count": 47,
     "metadata": {},
     "output_type": "execute_result"
    }
   ],
   "source": [
    "test_df['Number of sequences'].sum()"
   ]
  },
  {
   "cell_type": "code",
   "execution_count": null,
   "id": "c2fe65c5-335a-45d8-b967-b9b49e5bc17b",
   "metadata": {},
   "outputs": [],
   "source": []
  }
 ],
 "metadata": {
  "kernelspec": {
   "display_name": "Python [conda env:gesture_anal] *",
   "language": "python",
   "name": "conda-env-gesture_anal-py"
  },
  "language_info": {
   "codemirror_mode": {
    "name": "ipython",
    "version": 3
   },
   "file_extension": ".py",
   "mimetype": "text/x-python",
   "name": "python",
   "nbconvert_exporter": "python",
   "pygments_lexer": "ipython3",
   "version": "3.8.12"
  }
 },
 "nbformat": 4,
 "nbformat_minor": 5
}
