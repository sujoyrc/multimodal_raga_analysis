{
 "cells": [
  {
   "cell_type": "code",
   "execution_count": 14,
   "id": "3924863d-73fd-495d-9717-ae812f72bee2",
   "metadata": {},
   "outputs": [],
   "source": [
    "import pandas as pd\n",
    "import numpy as np\n",
    "import matplotlib.pyplot as plt\n",
    "plt.style.use('ggplot')"
   ]
  },
  {
   "cell_type": "code",
   "execution_count": 34,
   "id": "f0fc5a18-10d8-4461-87ad-29c83b98aee4",
   "metadata": {},
   "outputs": [],
   "source": [
    "df = pd.read_csv('../Seqs_Jin-Standardized/easy-1/train_easy-SCh.csv')"
   ]
  },
  {
   "cell_type": "code",
   "execution_count": 36,
   "id": "e14dd19e-3064-437e-a9b3-67ee690b47ff",
   "metadata": {},
   "outputs": [
    {
     "data": {
      "text/plain": [
       "y\n",
       "0    603\n",
       "1    570\n",
       "2    594\n",
       "3    596\n",
       "4    601\n",
       "5    741\n",
       "6    625\n",
       "7    608\n",
       "8    650\n",
       "Name: x_0, dtype: int64"
      ]
     },
     "execution_count": 36,
     "metadata": {},
     "output_type": "execute_result"
    }
   ],
   "source": [
    "df.groupby(['y']).count()['x_0']"
   ]
  },
  {
   "cell_type": "markdown",
   "id": "ab67aaaf-c6d7-45a5-a056-8db7463ccb8e",
   "metadata": {},
   "source": [
    "Check the min and max value in df"
   ]
  },
  {
   "cell_type": "code",
   "execution_count": 38,
   "id": "355b0922-43e5-439f-bdb1-1227c7b6cd2e",
   "metadata": {},
   "outputs": [],
   "source": [
    "df = pd.read_csv('../Seqs_Jin-Normalized/easy-1/train_easy-AG.csv')"
   ]
  },
  {
   "cell_type": "code",
   "execution_count": 39,
   "id": "77f8f792-4a5c-46a2-b601-92f9c53fb057",
   "metadata": {},
   "outputs": [
    {
     "data": {
      "text/plain": [
       "(5590, 1201)"
      ]
     },
     "execution_count": 39,
     "metadata": {},
     "output_type": "execute_result"
    }
   ],
   "source": [
    "df.shape"
   ]
  },
  {
   "cell_type": "code",
   "execution_count": 34,
   "id": "ee4db24e-74f5-4e31-9a64-0cf92db911f1",
   "metadata": {},
   "outputs": [
    {
     "data": {
      "text/plain": [
       "1946.928374878824"
      ]
     },
     "execution_count": 34,
     "metadata": {},
     "output_type": "execute_result"
    }
   ],
   "source": [
    "np.max(df.values)"
   ]
  },
  {
   "cell_type": "code",
   "execution_count": null,
   "id": "829a3221-09b1-4452-aa85-7dd711bb3c25",
   "metadata": {},
   "outputs": [],
   "source": []
  }
 ],
 "metadata": {
  "kernelspec": {
   "display_name": "Python 3",
   "language": "python",
   "name": "python3"
  },
  "language_info": {
   "codemirror_mode": {
    "name": "ipython",
    "version": 3
   },
   "file_extension": ".py",
   "mimetype": "text/x-python",
   "name": "python",
   "nbconvert_exporter": "python",
   "pygments_lexer": "ipython3",
   "version": "3.8.12"
  }
 },
 "nbformat": 4,
 "nbformat_minor": 5
}
