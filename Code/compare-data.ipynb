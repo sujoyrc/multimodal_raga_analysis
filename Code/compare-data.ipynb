{
 "cells": [
  {
   "cell_type": "code",
   "execution_count": 32,
   "id": "89d57666-a3b2-42e5-991a-9f92ea671950",
   "metadata": {},
   "outputs": [],
   "source": [
    "import numpy as np"
   ]
  },
  {
   "cell_type": "code",
   "execution_count": 33,
   "id": "e2d5bcd3-8c5a-44e7-ae55-4d6efcdfb1ea",
   "metadata": {},
   "outputs": [],
   "source": [
    "old_train_file = '/home/nithya/Desktop/voicing.npz'\n",
    "new_train_file = '/home/nithya/Desktop/SSvoicing.npz'"
   ]
  },
  {
   "cell_type": "code",
   "execution_count": 34,
   "id": "1fee7636-5673-4ae1-a657-8a100f7126ef",
   "metadata": {},
   "outputs": [],
   "source": [
    "old_train = np.load(old_train_file)\n",
    "new_train = np.load(new_train_file)"
   ]
  },
  {
   "cell_type": "code",
   "execution_count": 35,
   "id": "dcd10b5e-f6d9-49c0-88e0-5e922b1c2c4f",
   "metadata": {},
   "outputs": [
    {
     "data": {
      "text/plain": [
       "numpy.ndarray"
      ]
     },
     "execution_count": 35,
     "metadata": {},
     "output_type": "execute_result"
    }
   ],
   "source": [
    "#a = list(np.reshape(np.arange(8), (2, 4))) * [1, 1, 2, 2]\n",
    "type(old_train['X'])"
   ]
  },
  {
   "cell_type": "code",
   "execution_count": 36,
   "id": "ea013ea1-5839-46ac-bba4-8248188f723f",
   "metadata": {},
   "outputs": [],
   "source": [
    "old_train_X = (old_train['X'] * np.array([ 1.94692837e+03,  2.66000000e+02,  2.04703600e+01,  9.96590000e-01,\n",
    "        1.19579000e+00, -1.10491000e+00,  3.62282900e+01,  1.03258700e+01] - np.array([-550.     ,    0.     ,  -80.     ,   -0.87502,   -2.98485,\n",
    "         -3.36789,  -14.11584, -200.     ]))) + np.array([-550.     ,    0.     ,  -80.     ,   -0.87502,   -2.98485,\n",
    "         -3.36789,  -14.11584, -200.     ])\n",
    "new_train_X = (new_train['X'] * (np.array([ 1.94692837e+03,  3.19000000e+02,  2.04695600e+01,  1.00000000e+00,\n",
    "        2.89285000e+00, -4.28100000e-01,  3.94103000e+01,  1.16774200e+01]) - np.array([-550.     ,    0.     ,  -80.     ,   -1.     ,   -3.51788,\n",
    "        -19.61734,  -28.48101, -200.     ]))) + np.array([-550.     ,    0.     ,  -80.     ,   -1.     ,   -3.51788,\n",
    "        -19.61734,  -28.48101, -200.     ])\n",
    "old_train_X = np.round(old_train_X)\n",
    "new_train_X = np.round(new_train_X)\n",
    "\n",
    "# old_train_X = old_train['X']\n",
    "# new_train_X = new_train['X']"
   ]
  },
  {
   "cell_type": "code",
   "execution_count": 40,
   "id": "baa36a80-309f-45bc-9818-704576241235",
   "metadata": {},
   "outputs": [
    {
     "data": {
      "text/plain": [
       "array([-550.,   36.,  -16.,    1.,   -1.,   -3.,   16., -200.])"
      ]
     },
     "execution_count": 40,
     "metadata": {},
     "output_type": "execute_result"
    }
   ],
   "source": [
    "old_train_X[0][0]"
   ]
  },
  {
   "cell_type": "code",
   "execution_count": 39,
   "id": "4c25ad9f-d73d-41b1-b3c7-537b294cfb73",
   "metadata": {},
   "outputs": [
    {
     "data": {
      "text/plain": [
       "array([-550.,    0.,  -68.,    0.,    0.,   -9.,    0.,    6.])"
      ]
     },
     "execution_count": 39,
     "metadata": {},
     "output_type": "execute_result"
    }
   ],
   "source": [
    "new_train_X[0][0]"
   ]
  },
  {
   "cell_type": "code",
   "execution_count": 31,
   "id": "536007db-7b35-4a82-852b-57c70839f890",
   "metadata": {},
   "outputs": [],
   "source": [
    "for row in range(old_train_X.shape[0]):\n",
    "    if(len(np.where((new_train_X == old_train_X[row]).all(axis=(1, 2)))) != 1):\n",
    "        print(row)"
   ]
  },
  {
   "cell_type": "code",
   "execution_count": 82,
   "id": "58bb6cf1-0bfa-404f-ab8f-cd93fac461da",
   "metadata": {},
   "outputs": [],
   "source": [
    "#(new_train_X == old_train_X[0]).all(axis=(1, 2)).sum()"
   ]
  },
  {
   "cell_type": "code",
   "execution_count": 83,
   "id": "73871a22-062a-470c-bcca-2f0dd67f9127",
   "metadata": {},
   "outputs": [
    {
     "data": {
      "text/plain": [
       "(array([ 909, 2756]),)"
      ]
     },
     "execution_count": 83,
     "metadata": {},
     "output_type": "execute_result"
    }
   ],
   "source": [
    "np.where((new_train_X[:, 0, 0]) == -333.)"
   ]
  },
  {
   "cell_type": "code",
   "execution_count": 72,
   "id": "c3e24eef-c80e-47b7-adc7-d6d34afa49e6",
   "metadata": {},
   "outputs": [],
   "source": [
    "inds = np.where(new_train_X[2756] != old_train_X[0])[0]"
   ]
  },
  {
   "cell_type": "code",
   "execution_count": 73,
   "id": "7ccd24d3-c67e-421e-bcb5-43cfd1fc5239",
   "metadata": {},
   "outputs": [
    {
     "data": {
      "text/plain": [
       "(array([], dtype=float64), array([], dtype=float64))"
      ]
     },
     "execution_count": 73,
     "metadata": {},
     "output_type": "execute_result"
    }
   ],
   "source": [
    "old_train_X[0, inds, 0], new_train_X[2756, inds, 0]"
   ]
  },
  {
   "cell_type": "code",
   "execution_count": 74,
   "id": "76b780d9-d960-4736-a39e-dc1f6663bfda",
   "metadata": {},
   "outputs": [
    {
     "data": {
      "text/plain": [
       "array([], dtype=int64)"
      ]
     },
     "execution_count": 74,
     "metadata": {},
     "output_type": "execute_result"
    }
   ],
   "source": [
    "inds"
   ]
  },
  {
   "cell_type": "code",
   "execution_count": null,
   "id": "a5429c8f-af25-40b9-a3ed-36f0f5a4d4d5",
   "metadata": {},
   "outputs": [],
   "source": []
  }
 ],
 "metadata": {
  "kernelspec": {
   "display_name": "Python [conda env:gesture_anal] *",
   "language": "python",
   "name": "conda-env-gesture_anal-py"
  },
  "language_info": {
   "codemirror_mode": {
    "name": "ipython",
    "version": 3
   },
   "file_extension": ".py",
   "mimetype": "text/x-python",
   "name": "python",
   "nbconvert_exporter": "python",
   "pygments_lexer": "ipython3",
   "version": "3.8.12"
  }
 },
 "nbformat": 4,
 "nbformat_minor": 5
}
